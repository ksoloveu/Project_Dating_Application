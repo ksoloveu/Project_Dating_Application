{
 "cells": [
  {
   "cell_type": "markdown",
   "metadata": {},
   "source": [
    "## Кейс №1 - Приложение знакомств"
   ]
  },
  {
   "cell_type": "code",
   "execution_count": 35,
   "metadata": {},
   "outputs": [],
   "source": [
    "from scipy.stats import bootstrap\n",
    "\n",
    "import pandas as pd\n",
    "import numpy as np\n",
    "import seaborn as sns\n",
    "\n",
    "import plotly.express as px\n",
    "import pingouin as pg\n",
    "\n",
    "import scipy.stats as stats\n",
    "from scipy.stats import chi2_contingency\n",
    "\n",
    "sns.set(rc={'figure.figsize':(12,6)}, style=\"whitegrid\")"
   ]
  },
  {
   "cell_type": "code",
   "execution_count": 6,
   "metadata": {},
   "outputs": [],
   "source": [
    "df = pd.read_csv('/mnt/HC_Volume_18315164/home-jupyter/jupyter-e-soloveva/Статистика/dating_data.csv')"
   ]
  },
  {
   "cell_type": "code",
   "execution_count": 7,
   "metadata": {},
   "outputs": [
    {
     "data": {
      "text/html": [
       "<div>\n",
       "<style scoped>\n",
       "    .dataframe tbody tr th:only-of-type {\n",
       "        vertical-align: middle;\n",
       "    }\n",
       "\n",
       "    .dataframe tbody tr th {\n",
       "        vertical-align: top;\n",
       "    }\n",
       "\n",
       "    .dataframe thead th {\n",
       "        text-align: right;\n",
       "    }\n",
       "</style>\n",
       "<table border=\"1\" class=\"dataframe\">\n",
       "  <thead>\n",
       "    <tr style=\"text-align: right;\">\n",
       "      <th></th>\n",
       "      <th>user_id_1</th>\n",
       "      <th>user_id_2</th>\n",
       "      <th>group</th>\n",
       "      <th>is_match</th>\n",
       "    </tr>\n",
       "  </thead>\n",
       "  <tbody>\n",
       "    <tr>\n",
       "      <th>0</th>\n",
       "      <td>79</td>\n",
       "      <td>91</td>\n",
       "      <td>1</td>\n",
       "      <td>1</td>\n",
       "    </tr>\n",
       "    <tr>\n",
       "      <th>1</th>\n",
       "      <td>716</td>\n",
       "      <td>353</td>\n",
       "      <td>1</td>\n",
       "      <td>1</td>\n",
       "    </tr>\n",
       "    <tr>\n",
       "      <th>2</th>\n",
       "      <td>423</td>\n",
       "      <td>677</td>\n",
       "      <td>0</td>\n",
       "      <td>0</td>\n",
       "    </tr>\n",
       "    <tr>\n",
       "      <th>3</th>\n",
       "      <td>658</td>\n",
       "      <td>165</td>\n",
       "      <td>1</td>\n",
       "      <td>1</td>\n",
       "    </tr>\n",
       "    <tr>\n",
       "      <th>4</th>\n",
       "      <td>969</td>\n",
       "      <td>155</td>\n",
       "      <td>0</td>\n",
       "      <td>1</td>\n",
       "    </tr>\n",
       "    <tr>\n",
       "      <th>...</th>\n",
       "      <td>...</td>\n",
       "      <td>...</td>\n",
       "      <td>...</td>\n",
       "      <td>...</td>\n",
       "    </tr>\n",
       "    <tr>\n",
       "      <th>14509</th>\n",
       "      <td>476</td>\n",
       "      <td>631</td>\n",
       "      <td>0</td>\n",
       "      <td>0</td>\n",
       "    </tr>\n",
       "    <tr>\n",
       "      <th>14510</th>\n",
       "      <td>455</td>\n",
       "      <td>770</td>\n",
       "      <td>1</td>\n",
       "      <td>0</td>\n",
       "    </tr>\n",
       "    <tr>\n",
       "      <th>14511</th>\n",
       "      <td>260</td>\n",
       "      <td>6</td>\n",
       "      <td>1</td>\n",
       "      <td>1</td>\n",
       "    </tr>\n",
       "    <tr>\n",
       "      <th>14512</th>\n",
       "      <td>885</td>\n",
       "      <td>812</td>\n",
       "      <td>1</td>\n",
       "      <td>1</td>\n",
       "    </tr>\n",
       "    <tr>\n",
       "      <th>14513</th>\n",
       "      <td>357</td>\n",
       "      <td>810</td>\n",
       "      <td>1</td>\n",
       "      <td>1</td>\n",
       "    </tr>\n",
       "  </tbody>\n",
       "</table>\n",
       "<p>14514 rows × 4 columns</p>\n",
       "</div>"
      ],
      "text/plain": [
       "       user_id_1  user_id_2  group  is_match\n",
       "0             79         91      1         1\n",
       "1            716        353      1         1\n",
       "2            423        677      0         0\n",
       "3            658        165      1         1\n",
       "4            969        155      0         1\n",
       "...          ...        ...    ...       ...\n",
       "14509        476        631      0         0\n",
       "14510        455        770      1         0\n",
       "14511        260          6      1         1\n",
       "14512        885        812      1         1\n",
       "14513        357        810      1         1\n",
       "\n",
       "[14514 rows x 4 columns]"
      ]
     },
     "execution_count": 7,
     "metadata": {},
     "output_type": "execute_result"
    }
   ],
   "source": [
    "df"
   ]
  },
  {
   "cell_type": "code",
   "execution_count": 8,
   "metadata": {},
   "outputs": [
    {
     "data": {
      "text/plain": [
       "(14514, 4)"
      ]
     },
     "execution_count": 8,
     "metadata": {},
     "output_type": "execute_result"
    }
   ],
   "source": [
    "df.shape"
   ]
  },
  {
   "cell_type": "code",
   "execution_count": 9,
   "metadata": {},
   "outputs": [
    {
     "name": "stdout",
     "output_type": "stream",
     "text": [
      "<class 'pandas.core.frame.DataFrame'>\n",
      "RangeIndex: 14514 entries, 0 to 14513\n",
      "Data columns (total 4 columns):\n",
      " #   Column     Non-Null Count  Dtype\n",
      "---  ------     --------------  -----\n",
      " 0   user_id_1  14514 non-null  int64\n",
      " 1   user_id_2  14514 non-null  int64\n",
      " 2   group      14514 non-null  int64\n",
      " 3   is_match   14514 non-null  int64\n",
      "dtypes: int64(4)\n",
      "memory usage: 453.7 KB\n"
     ]
    }
   ],
   "source": [
    "df.info()"
   ]
  },
  {
   "cell_type": "code",
   "execution_count": 10,
   "metadata": {},
   "outputs": [
    {
     "data": {
      "text/plain": [
       "user_id_1    0\n",
       "user_id_2    0\n",
       "group        0\n",
       "is_match     0\n",
       "dtype: int64"
      ]
     },
     "execution_count": 10,
     "metadata": {},
     "output_type": "execute_result"
    }
   ],
   "source": [
    "df.isnull().sum()"
   ]
  },
  {
   "cell_type": "markdown",
   "metadata": {},
   "source": [
    "На основе таблицы можем определить, что тип данных переменных `group` и `is_match` относится к категориальным (качественным, дискретным), следовательно, для последующего анализа будем использовать критерий **Хи-квадрат**."
   ]
  },
  {
   "cell_type": "code",
   "execution_count": 11,
   "metadata": {},
   "outputs": [
    {
     "data": {
      "text/html": [
       "<div>\n",
       "<style scoped>\n",
       "    .dataframe tbody tr th:only-of-type {\n",
       "        vertical-align: middle;\n",
       "    }\n",
       "\n",
       "    .dataframe tbody tr th {\n",
       "        vertical-align: top;\n",
       "    }\n",
       "\n",
       "    .dataframe thead th {\n",
       "        text-align: right;\n",
       "    }\n",
       "</style>\n",
       "<table border=\"1\" class=\"dataframe\">\n",
       "  <thead>\n",
       "    <tr style=\"text-align: right;\">\n",
       "      <th></th>\n",
       "      <th>is_match</th>\n",
       "    </tr>\n",
       "    <tr>\n",
       "      <th>group</th>\n",
       "      <th></th>\n",
       "    </tr>\n",
       "  </thead>\n",
       "  <tbody>\n",
       "    <tr>\n",
       "      <th>0</th>\n",
       "      <td>4792</td>\n",
       "    </tr>\n",
       "    <tr>\n",
       "      <th>1</th>\n",
       "      <td>9722</td>\n",
       "    </tr>\n",
       "  </tbody>\n",
       "</table>\n",
       "</div>"
      ],
      "text/plain": [
       "       is_match\n",
       "group          \n",
       "0          4792\n",
       "1          9722"
      ]
     },
     "execution_count": 11,
     "metadata": {},
     "output_type": "execute_result"
    }
   ],
   "source": [
    "#Определим размер каждой группы\n",
    "df.groupby('group').agg({'is_match':'count'})"
   ]
  },
  {
   "cell_type": "code",
   "execution_count": 12,
   "metadata": {},
   "outputs": [
    {
     "data": {
      "text/plain": [
       "1    9722\n",
       "0    4792\n",
       "Name: group, dtype: int64"
      ]
     },
     "execution_count": 12,
     "metadata": {},
     "output_type": "execute_result"
    }
   ],
   "source": [
    "df.group.value_counts()"
   ]
  },
  {
   "cell_type": "code",
   "execution_count": 13,
   "metadata": {},
   "outputs": [
    {
     "data": {
      "text/plain": [
       "0    9671\n",
       "1    4843\n",
       "Name: is_match, dtype: int64"
      ]
     },
     "execution_count": 13,
     "metadata": {},
     "output_type": "execute_result"
    }
   ],
   "source": [
    "df.is_match.value_counts()"
   ]
  },
  {
   "cell_type": "code",
   "execution_count": 76,
   "metadata": {},
   "outputs": [
    {
     "data": {
      "text/html": [
       "<div>\n",
       "<style scoped>\n",
       "    .dataframe tbody tr th:only-of-type {\n",
       "        vertical-align: middle;\n",
       "    }\n",
       "\n",
       "    .dataframe tbody tr th {\n",
       "        vertical-align: top;\n",
       "    }\n",
       "\n",
       "    .dataframe thead th {\n",
       "        text-align: right;\n",
       "    }\n",
       "</style>\n",
       "<table border=\"1\" class=\"dataframe\">\n",
       "  <thead>\n",
       "    <tr style=\"text-align: right;\">\n",
       "      <th></th>\n",
       "      <th>user_id_1</th>\n",
       "      <th>user_id_2</th>\n",
       "      <th>group</th>\n",
       "      <th>is_match</th>\n",
       "    </tr>\n",
       "  </thead>\n",
       "  <tbody>\n",
       "    <tr>\n",
       "      <th>0</th>\n",
       "      <td>79</td>\n",
       "      <td>91</td>\n",
       "      <td>1</td>\n",
       "      <td>1</td>\n",
       "    </tr>\n",
       "    <tr>\n",
       "      <th>1</th>\n",
       "      <td>716</td>\n",
       "      <td>353</td>\n",
       "      <td>1</td>\n",
       "      <td>1</td>\n",
       "    </tr>\n",
       "    <tr>\n",
       "      <th>3</th>\n",
       "      <td>658</td>\n",
       "      <td>165</td>\n",
       "      <td>1</td>\n",
       "      <td>1</td>\n",
       "    </tr>\n",
       "    <tr>\n",
       "      <th>6</th>\n",
       "      <td>435</td>\n",
       "      <td>16</td>\n",
       "      <td>1</td>\n",
       "      <td>0</td>\n",
       "    </tr>\n",
       "    <tr>\n",
       "      <th>7</th>\n",
       "      <td>602</td>\n",
       "      <td>327</td>\n",
       "      <td>1</td>\n",
       "      <td>0</td>\n",
       "    </tr>\n",
       "    <tr>\n",
       "      <th>...</th>\n",
       "      <td>...</td>\n",
       "      <td>...</td>\n",
       "      <td>...</td>\n",
       "      <td>...</td>\n",
       "    </tr>\n",
       "    <tr>\n",
       "      <th>14508</th>\n",
       "      <td>527</td>\n",
       "      <td>647</td>\n",
       "      <td>1</td>\n",
       "      <td>0</td>\n",
       "    </tr>\n",
       "    <tr>\n",
       "      <th>14510</th>\n",
       "      <td>455</td>\n",
       "      <td>770</td>\n",
       "      <td>1</td>\n",
       "      <td>0</td>\n",
       "    </tr>\n",
       "    <tr>\n",
       "      <th>14511</th>\n",
       "      <td>260</td>\n",
       "      <td>6</td>\n",
       "      <td>1</td>\n",
       "      <td>1</td>\n",
       "    </tr>\n",
       "    <tr>\n",
       "      <th>14512</th>\n",
       "      <td>885</td>\n",
       "      <td>812</td>\n",
       "      <td>1</td>\n",
       "      <td>1</td>\n",
       "    </tr>\n",
       "    <tr>\n",
       "      <th>14513</th>\n",
       "      <td>357</td>\n",
       "      <td>810</td>\n",
       "      <td>1</td>\n",
       "      <td>1</td>\n",
       "    </tr>\n",
       "  </tbody>\n",
       "</table>\n",
       "<p>9722 rows × 4 columns</p>\n",
       "</div>"
      ],
      "text/plain": [
       "       user_id_1  user_id_2  group  is_match\n",
       "0             79         91      1         1\n",
       "1            716        353      1         1\n",
       "3            658        165      1         1\n",
       "6            435         16      1         0\n",
       "7            602        327      1         0\n",
       "...          ...        ...    ...       ...\n",
       "14508        527        647      1         0\n",
       "14510        455        770      1         0\n",
       "14511        260          6      1         1\n",
       "14512        885        812      1         1\n",
       "14513        357        810      1         1\n",
       "\n",
       "[9722 rows x 4 columns]"
      ]
     },
     "execution_count": 76,
     "metadata": {},
     "output_type": "execute_result"
    }
   ],
   "source": [
    "test = df[df.group == 1]\n",
    "test"
   ]
  },
  {
   "cell_type": "code",
   "execution_count": 77,
   "metadata": {},
   "outputs": [
    {
     "data": {
      "text/html": [
       "<div>\n",
       "<style scoped>\n",
       "    .dataframe tbody tr th:only-of-type {\n",
       "        vertical-align: middle;\n",
       "    }\n",
       "\n",
       "    .dataframe tbody tr th {\n",
       "        vertical-align: top;\n",
       "    }\n",
       "\n",
       "    .dataframe thead th {\n",
       "        text-align: right;\n",
       "    }\n",
       "</style>\n",
       "<table border=\"1\" class=\"dataframe\">\n",
       "  <thead>\n",
       "    <tr style=\"text-align: right;\">\n",
       "      <th></th>\n",
       "      <th>user_id_1</th>\n",
       "      <th>user_id_2</th>\n",
       "      <th>group</th>\n",
       "      <th>is_match</th>\n",
       "    </tr>\n",
       "  </thead>\n",
       "  <tbody>\n",
       "    <tr>\n",
       "      <th>2</th>\n",
       "      <td>423</td>\n",
       "      <td>677</td>\n",
       "      <td>0</td>\n",
       "      <td>0</td>\n",
       "    </tr>\n",
       "    <tr>\n",
       "      <th>4</th>\n",
       "      <td>969</td>\n",
       "      <td>155</td>\n",
       "      <td>0</td>\n",
       "      <td>1</td>\n",
       "    </tr>\n",
       "    <tr>\n",
       "      <th>5</th>\n",
       "      <td>227</td>\n",
       "      <td>162</td>\n",
       "      <td>0</td>\n",
       "      <td>0</td>\n",
       "    </tr>\n",
       "    <tr>\n",
       "      <th>8</th>\n",
       "      <td>223</td>\n",
       "      <td>295</td>\n",
       "      <td>0</td>\n",
       "      <td>0</td>\n",
       "    </tr>\n",
       "    <tr>\n",
       "      <th>10</th>\n",
       "      <td>825</td>\n",
       "      <td>388</td>\n",
       "      <td>0</td>\n",
       "      <td>0</td>\n",
       "    </tr>\n",
       "    <tr>\n",
       "      <th>...</th>\n",
       "      <td>...</td>\n",
       "      <td>...</td>\n",
       "      <td>...</td>\n",
       "      <td>...</td>\n",
       "    </tr>\n",
       "    <tr>\n",
       "      <th>14502</th>\n",
       "      <td>535</td>\n",
       "      <td>545</td>\n",
       "      <td>0</td>\n",
       "      <td>0</td>\n",
       "    </tr>\n",
       "    <tr>\n",
       "      <th>14503</th>\n",
       "      <td>128</td>\n",
       "      <td>268</td>\n",
       "      <td>0</td>\n",
       "      <td>0</td>\n",
       "    </tr>\n",
       "    <tr>\n",
       "      <th>14505</th>\n",
       "      <td>544</td>\n",
       "      <td>600</td>\n",
       "      <td>0</td>\n",
       "      <td>0</td>\n",
       "    </tr>\n",
       "    <tr>\n",
       "      <th>14506</th>\n",
       "      <td>903</td>\n",
       "      <td>505</td>\n",
       "      <td>0</td>\n",
       "      <td>0</td>\n",
       "    </tr>\n",
       "    <tr>\n",
       "      <th>14509</th>\n",
       "      <td>476</td>\n",
       "      <td>631</td>\n",
       "      <td>0</td>\n",
       "      <td>0</td>\n",
       "    </tr>\n",
       "  </tbody>\n",
       "</table>\n",
       "<p>4792 rows × 4 columns</p>\n",
       "</div>"
      ],
      "text/plain": [
       "       user_id_1  user_id_2  group  is_match\n",
       "2            423        677      0         0\n",
       "4            969        155      0         1\n",
       "5            227        162      0         0\n",
       "8            223        295      0         0\n",
       "10           825        388      0         0\n",
       "...          ...        ...    ...       ...\n",
       "14502        535        545      0         0\n",
       "14503        128        268      0         0\n",
       "14505        544        600      0         0\n",
       "14506        903        505      0         0\n",
       "14509        476        631      0         0\n",
       "\n",
       "[4792 rows x 4 columns]"
      ]
     },
     "execution_count": 77,
     "metadata": {},
     "output_type": "execute_result"
    }
   ],
   "source": [
    "control = df[df.group == 0]\n",
    "control"
   ]
  },
  {
   "cell_type": "code",
   "execution_count": 247,
   "metadata": {},
   "outputs": [
    {
     "data": {
      "text/html": [
       "<div>\n",
       "<style scoped>\n",
       "    .dataframe tbody tr th:only-of-type {\n",
       "        vertical-align: middle;\n",
       "    }\n",
       "\n",
       "    .dataframe tbody tr th {\n",
       "        vertical-align: top;\n",
       "    }\n",
       "\n",
       "    .dataframe thead th {\n",
       "        text-align: right;\n",
       "    }\n",
       "</style>\n",
       "<table border=\"1\" class=\"dataframe\">\n",
       "  <thead>\n",
       "    <tr style=\"text-align: right;\">\n",
       "      <th></th>\n",
       "      <th>user_id_1</th>\n",
       "      <th>match_sum</th>\n",
       "      <th>count_match</th>\n",
       "    </tr>\n",
       "  </thead>\n",
       "  <tbody>\n",
       "    <tr>\n",
       "      <th>0</th>\n",
       "      <td>4</td>\n",
       "      <td>2</td>\n",
       "      <td>9</td>\n",
       "    </tr>\n",
       "    <tr>\n",
       "      <th>1</th>\n",
       "      <td>10</td>\n",
       "      <td>3</td>\n",
       "      <td>6</td>\n",
       "    </tr>\n",
       "    <tr>\n",
       "      <th>2</th>\n",
       "      <td>12</td>\n",
       "      <td>1</td>\n",
       "      <td>12</td>\n",
       "    </tr>\n",
       "    <tr>\n",
       "      <th>3</th>\n",
       "      <td>14</td>\n",
       "      <td>0</td>\n",
       "      <td>8</td>\n",
       "    </tr>\n",
       "    <tr>\n",
       "      <th>4</th>\n",
       "      <td>15</td>\n",
       "      <td>3</td>\n",
       "      <td>20</td>\n",
       "    </tr>\n",
       "    <tr>\n",
       "      <th>...</th>\n",
       "      <td>...</td>\n",
       "      <td>...</td>\n",
       "      <td>...</td>\n",
       "    </tr>\n",
       "    <tr>\n",
       "      <th>496</th>\n",
       "      <td>994</td>\n",
       "      <td>2</td>\n",
       "      <td>9</td>\n",
       "    </tr>\n",
       "    <tr>\n",
       "      <th>497</th>\n",
       "      <td>995</td>\n",
       "      <td>2</td>\n",
       "      <td>8</td>\n",
       "    </tr>\n",
       "    <tr>\n",
       "      <th>498</th>\n",
       "      <td>996</td>\n",
       "      <td>1</td>\n",
       "      <td>8</td>\n",
       "    </tr>\n",
       "    <tr>\n",
       "      <th>499</th>\n",
       "      <td>997</td>\n",
       "      <td>1</td>\n",
       "      <td>12</td>\n",
       "    </tr>\n",
       "    <tr>\n",
       "      <th>500</th>\n",
       "      <td>999</td>\n",
       "      <td>2</td>\n",
       "      <td>7</td>\n",
       "    </tr>\n",
       "  </tbody>\n",
       "</table>\n",
       "<p>501 rows × 3 columns</p>\n",
       "</div>"
      ],
      "text/plain": [
       "     user_id_1  match_sum  count_match\n",
       "0            4          2            9\n",
       "1           10          3            6\n",
       "2           12          1           12\n",
       "3           14          0            8\n",
       "4           15          3           20\n",
       "..         ...        ...          ...\n",
       "496        994          2            9\n",
       "497        995          2            8\n",
       "498        996          1            8\n",
       "499        997          1           12\n",
       "500        999          2            7\n",
       "\n",
       "[501 rows x 3 columns]"
      ]
     },
     "execution_count": 247,
     "metadata": {},
     "output_type": "execute_result"
    }
   ],
   "source": [
    "control_df = control.groupby(['user_id_1'])\\\n",
    "                    .agg({'is_match':['sum', 'count']})\\\n",
    "                    .reset_index()\\\n",
    "                    .rename(columns={'sum':'match_sum', 'count':'count_match'})\n",
    "control_df.columns = [tup[1] if tup[1] else tup[0] for tup in control_df.columns]\n",
    "control_df"
   ]
  },
  {
   "cell_type": "code",
   "execution_count": 250,
   "metadata": {},
   "outputs": [
    {
     "data": {
      "text/html": [
       "<div>\n",
       "<style scoped>\n",
       "    .dataframe tbody tr th:only-of-type {\n",
       "        vertical-align: middle;\n",
       "    }\n",
       "\n",
       "    .dataframe tbody tr th {\n",
       "        vertical-align: top;\n",
       "    }\n",
       "\n",
       "    .dataframe thead th {\n",
       "        text-align: right;\n",
       "    }\n",
       "</style>\n",
       "<table border=\"1\" class=\"dataframe\">\n",
       "  <thead>\n",
       "    <tr style=\"text-align: right;\">\n",
       "      <th></th>\n",
       "      <th>user_id_1</th>\n",
       "      <th>match_sum</th>\n",
       "      <th>count_match</th>\n",
       "    </tr>\n",
       "  </thead>\n",
       "  <tbody>\n",
       "    <tr>\n",
       "      <th>0</th>\n",
       "      <td>1</td>\n",
       "      <td>11</td>\n",
       "      <td>24</td>\n",
       "    </tr>\n",
       "    <tr>\n",
       "      <th>1</th>\n",
       "      <td>2</td>\n",
       "      <td>7</td>\n",
       "      <td>16</td>\n",
       "    </tr>\n",
       "    <tr>\n",
       "      <th>2</th>\n",
       "      <td>3</td>\n",
       "      <td>5</td>\n",
       "      <td>16</td>\n",
       "    </tr>\n",
       "    <tr>\n",
       "      <th>3</th>\n",
       "      <td>5</td>\n",
       "      <td>13</td>\n",
       "      <td>22</td>\n",
       "    </tr>\n",
       "    <tr>\n",
       "      <th>4</th>\n",
       "      <td>6</td>\n",
       "      <td>9</td>\n",
       "      <td>22</td>\n",
       "    </tr>\n",
       "    <tr>\n",
       "      <th>...</th>\n",
       "      <td>...</td>\n",
       "      <td>...</td>\n",
       "      <td>...</td>\n",
       "    </tr>\n",
       "    <tr>\n",
       "      <th>494</th>\n",
       "      <td>987</td>\n",
       "      <td>8</td>\n",
       "      <td>23</td>\n",
       "    </tr>\n",
       "    <tr>\n",
       "      <th>495</th>\n",
       "      <td>992</td>\n",
       "      <td>8</td>\n",
       "      <td>21</td>\n",
       "    </tr>\n",
       "    <tr>\n",
       "      <th>496</th>\n",
       "      <td>993</td>\n",
       "      <td>6</td>\n",
       "      <td>18</td>\n",
       "    </tr>\n",
       "    <tr>\n",
       "      <th>497</th>\n",
       "      <td>998</td>\n",
       "      <td>10</td>\n",
       "      <td>18</td>\n",
       "    </tr>\n",
       "    <tr>\n",
       "      <th>498</th>\n",
       "      <td>1000</td>\n",
       "      <td>12</td>\n",
       "      <td>23</td>\n",
       "    </tr>\n",
       "  </tbody>\n",
       "</table>\n",
       "<p>499 rows × 3 columns</p>\n",
       "</div>"
      ],
      "text/plain": [
       "     user_id_1  match_sum  count_match\n",
       "0            1         11           24\n",
       "1            2          7           16\n",
       "2            3          5           16\n",
       "3            5         13           22\n",
       "4            6          9           22\n",
       "..         ...        ...          ...\n",
       "494        987          8           23\n",
       "495        992          8           21\n",
       "496        993          6           18\n",
       "497        998         10           18\n",
       "498       1000         12           23\n",
       "\n",
       "[499 rows x 3 columns]"
      ]
     },
     "execution_count": 250,
     "metadata": {},
     "output_type": "execute_result"
    }
   ],
   "source": [
    "test_df = test.groupby(['user_id_1'])\\\n",
    "              .agg({'is_match':['sum', 'count']})\\\n",
    "              .reset_index()\\\n",
    "              .rename(columns={'sum':'match_sum', 'count':'count_match'})\n",
    "test_df.columns = [tup[1] if tup[1] else tup[0] for tup in test_df.columns]\n",
    "test_df"
   ]
  },
  {
   "cell_type": "markdown",
   "metadata": {},
   "source": [
    "Исходя из размерности наших групп, мы можем заметить, что после группировки на пользователей в каждой группе, размерности стали приблизительно равны, то есть можем работать с подготовленными данными."
   ]
  },
  {
   "cell_type": "markdown",
   "metadata": {},
   "source": [
    "## Выбор метрики\n",
    "Поскольку нам необходимо оценить, правда ли, что новый алгоритм улучшил качество сервиса. Будем использовать метрику **соотношения кол-ва мэтчей (1) у пользователя к общему кол-ву мэтчей (1 И 0) у пользователя**, то есть отношение мэтчей у пользователя, к числу общего кол-ва совершённых операций, так мы рассмотрим показатель динамики мэтчей у пользователей, насколько оно возросло/уменьшилось."
   ]
  },
  {
   "cell_type": "markdown",
   "metadata": {},
   "source": [
    "Сгруппируем наш датасет по номеру группы и посчитаем выбранную метрику."
   ]
  },
  {
   "cell_type": "code",
   "execution_count": 148,
   "metadata": {},
   "outputs": [
    {
     "data": {
      "text/html": [
       "<div>\n",
       "<style scoped>\n",
       "    .dataframe tbody tr th:only-of-type {\n",
       "        vertical-align: middle;\n",
       "    }\n",
       "\n",
       "    .dataframe tbody tr th {\n",
       "        vertical-align: top;\n",
       "    }\n",
       "\n",
       "    .dataframe thead th {\n",
       "        text-align: right;\n",
       "    }\n",
       "</style>\n",
       "<table border=\"1\" class=\"dataframe\">\n",
       "  <thead>\n",
       "    <tr style=\"text-align: right;\">\n",
       "      <th>group</th>\n",
       "      <th>0</th>\n",
       "      <th>1</th>\n",
       "    </tr>\n",
       "    <tr>\n",
       "      <th>is_match</th>\n",
       "      <th></th>\n",
       "      <th></th>\n",
       "    </tr>\n",
       "  </thead>\n",
       "  <tbody>\n",
       "    <tr>\n",
       "      <th>0</th>\n",
       "      <td>3858</td>\n",
       "      <td>5813</td>\n",
       "    </tr>\n",
       "    <tr>\n",
       "      <th>1</th>\n",
       "      <td>934</td>\n",
       "      <td>3909</td>\n",
       "    </tr>\n",
       "  </tbody>\n",
       "</table>\n",
       "</div>"
      ],
      "text/plain": [
       "group        0     1\n",
       "is_match            \n",
       "0         3858  5813\n",
       "1          934  3909"
      ]
     },
     "execution_count": 148,
     "metadata": {},
     "output_type": "execute_result"
    }
   ],
   "source": [
    "pd.crosstab(df.is_match, df.group)"
   ]
  },
  {
   "cell_type": "code",
   "execution_count": 303,
   "metadata": {},
   "outputs": [
    {
     "data": {
      "text/html": [
       "<div>\n",
       "<style scoped>\n",
       "    .dataframe tbody tr th:only-of-type {\n",
       "        vertical-align: middle;\n",
       "    }\n",
       "\n",
       "    .dataframe tbody tr th {\n",
       "        vertical-align: top;\n",
       "    }\n",
       "\n",
       "    .dataframe thead th {\n",
       "        text-align: right;\n",
       "    }\n",
       "</style>\n",
       "<table border=\"1\" class=\"dataframe\">\n",
       "  <thead>\n",
       "    <tr style=\"text-align: right;\">\n",
       "      <th></th>\n",
       "      <th>user</th>\n",
       "      <th>is_match</th>\n",
       "    </tr>\n",
       "    <tr>\n",
       "      <th>group</th>\n",
       "      <th></th>\n",
       "      <th></th>\n",
       "    </tr>\n",
       "  </thead>\n",
       "  <tbody>\n",
       "    <tr>\n",
       "      <th>0</th>\n",
       "      <td>4792</td>\n",
       "      <td>934</td>\n",
       "    </tr>\n",
       "    <tr>\n",
       "      <th>1</th>\n",
       "      <td>9722</td>\n",
       "      <td>3909</td>\n",
       "    </tr>\n",
       "  </tbody>\n",
       "</table>\n",
       "</div>"
      ],
      "text/plain": [
       "       user  is_match\n",
       "group                \n",
       "0      4792       934\n",
       "1      9722      3909"
      ]
     },
     "execution_count": 303,
     "metadata": {},
     "output_type": "execute_result"
    }
   ],
   "source": [
    "df_grouped = df.groupby('group')\\\n",
    "               .agg({'user_id_1':'count', 'is_match': 'sum'})\\\n",
    "               .rename(columns={'user_id_1' : 'user'})\n",
    "df_grouped"
   ]
  },
  {
   "cell_type": "code",
   "execution_count": 177,
   "metadata": {},
   "outputs": [
    {
     "data": {
      "text/html": [
       "<div>\n",
       "<style scoped>\n",
       "    .dataframe tbody tr th:only-of-type {\n",
       "        vertical-align: middle;\n",
       "    }\n",
       "\n",
       "    .dataframe tbody tr th {\n",
       "        vertical-align: top;\n",
       "    }\n",
       "\n",
       "    .dataframe thead th {\n",
       "        text-align: right;\n",
       "    }\n",
       "</style>\n",
       "<table border=\"1\" class=\"dataframe\">\n",
       "  <thead>\n",
       "    <tr style=\"text-align: right;\">\n",
       "      <th></th>\n",
       "      <th>user</th>\n",
       "      <th>is_match</th>\n",
       "      <th>conversion</th>\n",
       "    </tr>\n",
       "    <tr>\n",
       "      <th>group</th>\n",
       "      <th></th>\n",
       "      <th></th>\n",
       "      <th></th>\n",
       "    </tr>\n",
       "  </thead>\n",
       "  <tbody>\n",
       "    <tr>\n",
       "      <th>0</th>\n",
       "      <td>4792</td>\n",
       "      <td>934</td>\n",
       "      <td>19.490818</td>\n",
       "    </tr>\n",
       "    <tr>\n",
       "      <th>1</th>\n",
       "      <td>9722</td>\n",
       "      <td>3909</td>\n",
       "      <td>40.207776</td>\n",
       "    </tr>\n",
       "  </tbody>\n",
       "</table>\n",
       "</div>"
      ],
      "text/plain": [
       "       user  is_match  conversion\n",
       "group                            \n",
       "0      4792       934   19.490818\n",
       "1      9722      3909   40.207776"
      ]
     },
     "execution_count": 177,
     "metadata": {},
     "output_type": "execute_result"
    }
   ],
   "source": [
    "df_grouped['conversion'] = (df_grouped['is_match'] / df_grouped['user'])*100\n",
    "df_grouped"
   ]
  },
  {
   "cell_type": "code",
   "execution_count": 252,
   "metadata": {},
   "outputs": [
    {
     "data": {
      "text/html": [
       "<div>\n",
       "<style scoped>\n",
       "    .dataframe tbody tr th:only-of-type {\n",
       "        vertical-align: middle;\n",
       "    }\n",
       "\n",
       "    .dataframe tbody tr th {\n",
       "        vertical-align: top;\n",
       "    }\n",
       "\n",
       "    .dataframe thead th {\n",
       "        text-align: right;\n",
       "    }\n",
       "</style>\n",
       "<table border=\"1\" class=\"dataframe\">\n",
       "  <thead>\n",
       "    <tr style=\"text-align: right;\">\n",
       "      <th></th>\n",
       "      <th>user_id_1</th>\n",
       "      <th>match_sum</th>\n",
       "      <th>count_match</th>\n",
       "      <th>match_rate_perc</th>\n",
       "    </tr>\n",
       "  </thead>\n",
       "  <tbody>\n",
       "    <tr>\n",
       "      <th>0</th>\n",
       "      <td>4</td>\n",
       "      <td>2</td>\n",
       "      <td>9</td>\n",
       "      <td>22.222222</td>\n",
       "    </tr>\n",
       "    <tr>\n",
       "      <th>1</th>\n",
       "      <td>10</td>\n",
       "      <td>3</td>\n",
       "      <td>6</td>\n",
       "      <td>50.000000</td>\n",
       "    </tr>\n",
       "    <tr>\n",
       "      <th>2</th>\n",
       "      <td>12</td>\n",
       "      <td>1</td>\n",
       "      <td>12</td>\n",
       "      <td>8.333333</td>\n",
       "    </tr>\n",
       "    <tr>\n",
       "      <th>3</th>\n",
       "      <td>14</td>\n",
       "      <td>0</td>\n",
       "      <td>8</td>\n",
       "      <td>0.000000</td>\n",
       "    </tr>\n",
       "    <tr>\n",
       "      <th>4</th>\n",
       "      <td>15</td>\n",
       "      <td>3</td>\n",
       "      <td>20</td>\n",
       "      <td>15.000000</td>\n",
       "    </tr>\n",
       "    <tr>\n",
       "      <th>...</th>\n",
       "      <td>...</td>\n",
       "      <td>...</td>\n",
       "      <td>...</td>\n",
       "      <td>...</td>\n",
       "    </tr>\n",
       "    <tr>\n",
       "      <th>496</th>\n",
       "      <td>994</td>\n",
       "      <td>2</td>\n",
       "      <td>9</td>\n",
       "      <td>22.222222</td>\n",
       "    </tr>\n",
       "    <tr>\n",
       "      <th>497</th>\n",
       "      <td>995</td>\n",
       "      <td>2</td>\n",
       "      <td>8</td>\n",
       "      <td>25.000000</td>\n",
       "    </tr>\n",
       "    <tr>\n",
       "      <th>498</th>\n",
       "      <td>996</td>\n",
       "      <td>1</td>\n",
       "      <td>8</td>\n",
       "      <td>12.500000</td>\n",
       "    </tr>\n",
       "    <tr>\n",
       "      <th>499</th>\n",
       "      <td>997</td>\n",
       "      <td>1</td>\n",
       "      <td>12</td>\n",
       "      <td>8.333333</td>\n",
       "    </tr>\n",
       "    <tr>\n",
       "      <th>500</th>\n",
       "      <td>999</td>\n",
       "      <td>2</td>\n",
       "      <td>7</td>\n",
       "      <td>28.571429</td>\n",
       "    </tr>\n",
       "  </tbody>\n",
       "</table>\n",
       "<p>501 rows × 4 columns</p>\n",
       "</div>"
      ],
      "text/plain": [
       "     user_id_1  match_sum  count_match  match_rate_perc\n",
       "0            4          2            9        22.222222\n",
       "1           10          3            6        50.000000\n",
       "2           12          1           12         8.333333\n",
       "3           14          0            8         0.000000\n",
       "4           15          3           20        15.000000\n",
       "..         ...        ...          ...              ...\n",
       "496        994          2            9        22.222222\n",
       "497        995          2            8        25.000000\n",
       "498        996          1            8        12.500000\n",
       "499        997          1           12         8.333333\n",
       "500        999          2            7        28.571429\n",
       "\n",
       "[501 rows x 4 columns]"
      ]
     },
     "execution_count": 252,
     "metadata": {},
     "output_type": "execute_result"
    }
   ],
   "source": [
    "control_df['match_rate_perc'] = (control_df['match_sum'] / control_df['count_match']) * 100\n",
    "control_df"
   ]
  },
  {
   "cell_type": "code",
   "execution_count": 253,
   "metadata": {},
   "outputs": [
    {
     "data": {
      "text/plain": [
       "<seaborn.axisgrid.FacetGrid at 0x7f571e025f60>"
      ]
     },
     "execution_count": 253,
     "metadata": {},
     "output_type": "execute_result"
    },
    {
     "data": {
      "image/png": "[encoded data removed]",
      "text/plain": [
       "<Figure size 360x360 with 1 Axes>"
      ]
     },
     "metadata": {},
     "output_type": "display_data"
    }
   ],
   "source": [
    "sns.displot(data=control_df, x='match_rate_perc')"
   ]
  },
  {
   "cell_type": "code",
   "execution_count": 254,
   "metadata": {},
   "outputs": [
    {
     "data": {
      "text/html": [
       "<div>\n",
       "<style scoped>\n",
       "    .dataframe tbody tr th:only-of-type {\n",
       "        vertical-align: middle;\n",
       "    }\n",
       "\n",
       "    .dataframe tbody tr th {\n",
       "        vertical-align: top;\n",
       "    }\n",
       "\n",
       "    .dataframe thead th {\n",
       "        text-align: right;\n",
       "    }\n",
       "</style>\n",
       "<table border=\"1\" class=\"dataframe\">\n",
       "  <thead>\n",
       "    <tr style=\"text-align: right;\">\n",
       "      <th></th>\n",
       "      <th>user_id_1</th>\n",
       "      <th>match_sum</th>\n",
       "      <th>count_match</th>\n",
       "      <th>match_rate_perc</th>\n",
       "    </tr>\n",
       "  </thead>\n",
       "  <tbody>\n",
       "    <tr>\n",
       "      <th>0</th>\n",
       "      <td>1</td>\n",
       "      <td>11</td>\n",
       "      <td>24</td>\n",
       "      <td>45.833333</td>\n",
       "    </tr>\n",
       "    <tr>\n",
       "      <th>1</th>\n",
       "      <td>2</td>\n",
       "      <td>7</td>\n",
       "      <td>16</td>\n",
       "      <td>43.750000</td>\n",
       "    </tr>\n",
       "    <tr>\n",
       "      <th>2</th>\n",
       "      <td>3</td>\n",
       "      <td>5</td>\n",
       "      <td>16</td>\n",
       "      <td>31.250000</td>\n",
       "    </tr>\n",
       "    <tr>\n",
       "      <th>3</th>\n",
       "      <td>5</td>\n",
       "      <td>13</td>\n",
       "      <td>22</td>\n",
       "      <td>59.090909</td>\n",
       "    </tr>\n",
       "    <tr>\n",
       "      <th>4</th>\n",
       "      <td>6</td>\n",
       "      <td>9</td>\n",
       "      <td>22</td>\n",
       "      <td>40.909091</td>\n",
       "    </tr>\n",
       "    <tr>\n",
       "      <th>...</th>\n",
       "      <td>...</td>\n",
       "      <td>...</td>\n",
       "      <td>...</td>\n",
       "      <td>...</td>\n",
       "    </tr>\n",
       "    <tr>\n",
       "      <th>494</th>\n",
       "      <td>987</td>\n",
       "      <td>8</td>\n",
       "      <td>23</td>\n",
       "      <td>34.782609</td>\n",
       "    </tr>\n",
       "    <tr>\n",
       "      <th>495</th>\n",
       "      <td>992</td>\n",
       "      <td>8</td>\n",
       "      <td>21</td>\n",
       "      <td>38.095238</td>\n",
       "    </tr>\n",
       "    <tr>\n",
       "      <th>496</th>\n",
       "      <td>993</td>\n",
       "      <td>6</td>\n",
       "      <td>18</td>\n",
       "      <td>33.333333</td>\n",
       "    </tr>\n",
       "    <tr>\n",
       "      <th>497</th>\n",
       "      <td>998</td>\n",
       "      <td>10</td>\n",
       "      <td>18</td>\n",
       "      <td>55.555556</td>\n",
       "    </tr>\n",
       "    <tr>\n",
       "      <th>498</th>\n",
       "      <td>1000</td>\n",
       "      <td>12</td>\n",
       "      <td>23</td>\n",
       "      <td>52.173913</td>\n",
       "    </tr>\n",
       "  </tbody>\n",
       "</table>\n",
       "<p>499 rows × 4 columns</p>\n",
       "</div>"
      ],
      "text/plain": [
       "     user_id_1  match_sum  count_match  match_rate_perc\n",
       "0            1         11           24        45.833333\n",
       "1            2          7           16        43.750000\n",
       "2            3          5           16        31.250000\n",
       "3            5         13           22        59.090909\n",
       "4            6          9           22        40.909091\n",
       "..         ...        ...          ...              ...\n",
       "494        987          8           23        34.782609\n",
       "495        992          8           21        38.095238\n",
       "496        993          6           18        33.333333\n",
       "497        998         10           18        55.555556\n",
       "498       1000         12           23        52.173913\n",
       "\n",
       "[499 rows x 4 columns]"
      ]
     },
     "execution_count": 254,
     "metadata": {},
     "output_type": "execute_result"
    }
   ],
   "source": [
    "test_df['match_rate_perc'] = (test_df['match_sum'] / test_df['count_match']) * 100\n",
    "test_df"
   ]
  },
  {
   "cell_type": "code",
   "execution_count": 255,
   "metadata": {},
   "outputs": [
    {
     "data": {
      "text/plain": [
       "<seaborn.axisgrid.FacetGrid at 0x7f571e044eb8>"
      ]
     },
     "execution_count": 255,
     "metadata": {},
     "output_type": "execute_result"
    },
    {
     "data": {
      "image/png": "[encoded data removed]",
      "text/plain": [
       "<Figure size 360x360 with 1 Axes>"
      ]
     },
     "metadata": {},
     "output_type": "display_data"
    }
   ],
   "source": [
    "sns.displot(data=test_df, x='match_rate_perc')"
   ]
  },
  {
   "cell_type": "markdown",
   "metadata": {},
   "source": [
    "Можем заметить, что процент между контрольной группой и тестовой, отличается, где у тестовой процент увеличился."
   ]
  },
  {
   "cell_type": "markdown",
   "metadata": {},
   "source": [
    "Учтём статистическую значимость, чтобы удостовериться, что результат теста не оказался случайным."
   ]
  },
  {
   "cell_type": "markdown",
   "metadata": {},
   "source": [
    "Найдём взаимосвязь между мэтчами и типом группы.\n",
    "\n",
    "Используя, Хи-квадрат, поскольку две переменные категориальные.\n",
    "\n",
    "- $H_0$: взаимосвязи между переменными нет \n",
    "- $H_1$: взаимосвязь есть"
   ]
  },
  {
   "cell_type": "code",
   "execution_count": 304,
   "metadata": {},
   "outputs": [],
   "source": [
    "from scipy.stats import chi2_contingency, chi2 "
   ]
  },
  {
   "cell_type": "code",
   "execution_count": 307,
   "metadata": {},
   "outputs": [],
   "source": [
    "# Проверим результат с помощью statsmodels\n",
    "stat, p, dof, expected = chi2_contingency(pd.crosstab(df.is_match, df.group))"
   ]
  },
  {
   "cell_type": "code",
   "execution_count": 308,
   "metadata": {},
   "outputs": [
    {
     "data": {
      "text/plain": [
       "(618.6889141576197,\n",
       " 1.441829916366341e-136,\n",
       " 1,\n",
       " array([[3193.01584677, 6477.98415323],\n",
       "        [1598.98415323, 3244.01584677]]))"
      ]
     },
     "execution_count": 308,
     "metadata": {},
     "output_type": "execute_result"
    }
   ],
   "source": [
    "stat, p, dof, expected "
   ]
  },
  {
   "cell_type": "code",
   "execution_count": 309,
   "metadata": {},
   "outputs": [
    {
     "name": "stdout",
     "output_type": "stream",
     "text": [
      "Отклоняем H0\n"
     ]
    }
   ],
   "source": [
    "prob = 0.95\n",
    "alpha = 1.0 - prob\n",
    "if p <= alpha:\n",
    "    print('Отклоняем H0')\n",
    "else:\n",
    "    print('Не отклоняем H0')"
   ]
  },
  {
   "cell_type": "markdown",
   "metadata": {},
   "source": [
    "Следовательно, нулевая гипотеза отклоняется и принимается альтернативная, что **взаимосвязь между переменными есть**."
   ]
  },
  {
   "cell_type": "markdown",
   "metadata": {},
   "source": [
    "Отразим на графике нормализованные значения."
   ]
  },
  {
   "cell_type": "code",
   "execution_count": 310,
   "metadata": {
    "scrolled": false
   },
   "outputs": [
    {
     "data": {
      "application/vnd.plotly.v1+json": {
       "config": {
        "plotlyServerURL": "https://plot.ly"
       },
       "data": [
        {
         "alignmentgroup": "True",
         "bingroup": "x",
         "histnorm": "probability density",
         "hovertemplate": "match_rate_perc=%{x}<br>count=%{y}<extra></extra>",
         "legendgroup": "",
         "marker": {
          "color": "#636efa"
         },
         "name": "",
         "offsetgroup": "",
         "orientation": "v",
         "showlegend": false,
         "type": "histogram",
         "x": [
          22.22222222222222,
          50,
          8.333333333333332,
          0,
          15,
          9.090909090909092,
          0,
          0,
          20,
          20,
          15.384615384615385,
          20,
          0,
          23.076923076923077,
          10,
          0,
          18.181818181818183,
          10,
          33.33333333333333,
          27.27272727272727,
          42.857142857142854,
          18.75,
          7.6923076923076925,
          27.27272727272727,
          36.36363636363637,
          17.647058823529413,
          20,
          11.11111111111111,
          0,
          33.33333333333333,
          23.076923076923077,
          35.714285714285715,
          9.090909090909092,
          60,
          0,
          40,
          25,
          8.333333333333332,
          0,
          30,
          20,
          33.33333333333333,
          22.22222222222222,
          10,
          14.285714285714285,
          22.22222222222222,
          11.11111111111111,
          7.6923076923076925,
          30,
          0,
          25,
          38.46153846153847,
          26.666666666666668,
          0,
          22.22222222222222,
          28.57142857142857,
          12.5,
          25,
          18.181818181818183,
          0,
          0,
          7.6923076923076925,
          14.285714285714285,
          21.428571428571427,
          20,
          33.33333333333333,
          27.27272727272727,
          0,
          50,
          0,
          6.666666666666667,
          0,
          9.090909090909092,
          0,
          23.076923076923077,
          0,
          7.6923076923076925,
          17.647058823529413,
          42.857142857142854,
          20,
          18.75,
          14.285714285714285,
          27.27272727272727,
          22.22222222222222,
          21.428571428571427,
          16.666666666666664,
          0,
          27.27272727272727,
          6.25,
          27.27272727272727,
          18.181818181818183,
          12.5,
          11.11111111111111,
          0,
          16.666666666666664,
          7.142857142857142,
          30,
          54.54545454545454,
          0,
          33.33333333333333,
          0,
          25,
          16.666666666666664,
          30,
          33.33333333333333,
          11.11111111111111,
          30,
          0,
          14.285714285714285,
          42.857142857142854,
          22.22222222222222,
          15.384615384615385,
          30.76923076923077,
          20,
          9.090909090909092,
          20,
          28.57142857142857,
          0,
          23.076923076923077,
          16.666666666666664,
          35.714285714285715,
          16.666666666666664,
          14.285714285714285,
          30.76923076923077,
          33.33333333333333,
          0,
          27.27272727272727,
          12.5,
          37.5,
          16.666666666666664,
          0,
          20,
          0,
          0,
          12.5,
          11.11111111111111,
          25,
          8.333333333333332,
          0,
          27.27272727272727,
          6.25,
          16.666666666666664,
          0,
          27.27272727272727,
          14.285714285714285,
          42.857142857142854,
          33.33333333333333,
          11.11111111111111,
          28.57142857142857,
          0,
          45.45454545454545,
          30,
          14.285714285714285,
          22.22222222222222,
          11.11111111111111,
          20,
          14.285714285714285,
          10,
          33.33333333333333,
          11.11111111111111,
          27.27272727272727,
          25,
          20,
          22.22222222222222,
          10,
          9.090909090909092,
          0,
          0,
          25,
          9.090909090909092,
          14.285714285714285,
          10,
          16.666666666666664,
          40,
          28.57142857142857,
          16.666666666666664,
          22.22222222222222,
          36.36363636363637,
          9.090909090909092,
          25,
          0,
          25,
          15.384615384615385,
          18.75,
          28.57142857142857,
          7.6923076923076925,
          18.181818181818183,
          25,
          25,
          30,
          16.666666666666664,
          16.666666666666664,
          20,
          7.142857142857142,
          33.33333333333333,
          0,
          15.384615384615385,
          30,
          14.285714285714285,
          22.22222222222222,
          33.33333333333333,
          11.11111111111111,
          27.27272727272727,
          40,
          22.22222222222222,
          14.285714285714285,
          33.33333333333333,
          18.181818181818183,
          7.142857142857142,
          30,
          40,
          0,
          8.333333333333332,
          44.44444444444444,
          0,
          18.181818181818183,
          16.666666666666664,
          20,
          8.333333333333332,
          10,
          0,
          44.44444444444444,
          27.27272727272727,
          15.384615384615385,
          37.5,
          20,
          33.33333333333333,
          20,
          7.142857142857142,
          16.666666666666664,
          11.11111111111111,
          0,
          0,
          27.27272727272727,
          36.36363636363637,
          16.666666666666664,
          37.5,
          20,
          18.181818181818183,
          16.666666666666664,
          11.11111111111111,
          10,
          25,
          0,
          0,
          30,
          10,
          50,
          0,
          23.076923076923077,
          0,
          22.22222222222222,
          0,
          12.5,
          16.666666666666664,
          50,
          9.090909090909092,
          42.857142857142854,
          10,
          31.25,
          18.181818181818183,
          25,
          16.666666666666664,
          15.384615384615385,
          16.666666666666664,
          7.6923076923076925,
          0,
          25,
          26.666666666666668,
          0,
          12.5,
          18.181818181818183,
          22.22222222222222,
          20,
          0,
          36.36363636363637,
          16.666666666666664,
          0,
          16.666666666666664,
          30,
          14.285714285714285,
          22.22222222222222,
          22.22222222222222,
          42.857142857142854,
          40,
          20,
          30,
          35.714285714285715,
          11.11111111111111,
          28.57142857142857,
          12.5,
          50,
          12.5,
          9.090909090909092,
          50,
          0,
          36.36363636363637,
          0,
          20,
          9.090909090909092,
          16.666666666666664,
          14.285714285714285,
          33.33333333333333,
          25,
          16.666666666666664,
          9.090909090909092,
          16.666666666666664,
          20,
          25,
          14.285714285714285,
          33.33333333333333,
          22.22222222222222,
          9.090909090909092,
          30.76923076923077,
          54.54545454545454,
          0,
          16.666666666666664,
          40,
          37.5,
          0,
          22.22222222222222,
          14.285714285714285,
          30,
          16.666666666666664,
          12.5,
          16.666666666666664,
          0,
          16.666666666666664,
          0,
          25,
          25,
          16.666666666666664,
          33.33333333333333,
          0,
          33.33333333333333,
          0,
          16.666666666666664,
          22.22222222222222,
          8.333333333333332,
          14.285714285714285,
          50,
          37.5,
          38.46153846153847,
          27.27272727272727,
          6.666666666666667,
          33.33333333333333,
          30.76923076923077,
          33.33333333333333,
          7.6923076923076925,
          12.5,
          12.5,
          25,
          12.5,
          33.33333333333333,
          25,
          14.285714285714285,
          33.33333333333333,
          18.181818181818183,
          16.666666666666664,
          14.285714285714285,
          7.6923076923076925,
          44.44444444444444,
          21.428571428571427,
          28.57142857142857,
          33.33333333333333,
          0,
          56.25,
          0,
          0,
          0,
          20,
          20,
          25,
          30,
          16.666666666666664,
          11.11111111111111,
          16.666666666666664,
          10,
          25,
          0,
          22.22222222222222,
          20,
          42.857142857142854,
          33.33333333333333,
          33.33333333333333,
          0,
          40,
          25,
          0,
          16.666666666666664,
          11.11111111111111,
          22.22222222222222,
          22.22222222222222,
          12.5,
          20,
          18.181818181818183,
          0,
          21.428571428571427,
          12.5,
          0,
          27.27272727272727,
          13.333333333333334,
          40,
          66.66666666666666,
          16.666666666666664,
          16.666666666666664,
          33.33333333333333,
          18.181818181818183,
          18.75,
          22.22222222222222,
          14.285714285714285,
          30,
          20,
          14.285714285714285,
          0,
          0,
          20,
          0,
          12.5,
          36.36363636363637,
          22.22222222222222,
          0,
          22.22222222222222,
          40,
          0,
          16.666666666666664,
          27.27272727272727,
          0,
          11.11111111111111,
          25,
          0,
          16.666666666666664,
          12.5,
          28.57142857142857,
          25,
          30,
          40,
          16.666666666666664,
          12.5,
          20,
          8.333333333333332,
          9.090909090909092,
          0,
          20,
          27.27272727272727,
          12.5,
          28.57142857142857,
          28.57142857142857,
          12.5,
          14.285714285714285,
          0,
          20,
          14.285714285714285,
          25,
          44.44444444444444,
          16.666666666666664,
          36.36363636363637,
          0,
          10,
          12.5,
          16.666666666666664,
          15.384615384615385,
          8.333333333333332,
          35.714285714285715,
          50,
          12.5,
          66.66666666666666,
          0,
          50,
          33.33333333333333,
          37.5,
          20,
          0,
          50,
          23.076923076923077,
          16.666666666666664,
          25,
          33.33333333333333,
          20,
          0,
          66.66666666666666,
          25,
          45.45454545454545,
          37.5,
          9.090909090909092,
          25,
          27.27272727272727,
          14.285714285714285,
          23.076923076923077,
          25,
          0,
          36.36363636363637,
          16.666666666666664,
          23.52941176470588,
          16.666666666666664,
          33.33333333333333,
          22.22222222222222,
          25,
          12.5,
          8.333333333333332,
          28.57142857142857
         ],
         "xaxis": "x",
         "yaxis": "y"
        }
       ],
       "layout": {
        "barmode": "relative",
        "legend": {
         "tracegroupgap": 0
        },
        "margin": {
         "t": 60
        },
        "template": {
         "data": {
          "bar": [
           {
            "error_x": {
             "color": "#2a3f5f"
            },
            "error_y": {
             "color": "#2a3f5f"
            },
            "marker": {
             "line": {
              "color": "#E5ECF6",
              "width": 0.5
             }
            },
            "type": "bar"
           }
          ],
          "barpolar": [
           {
            "marker": {
             "line": {
              "color": "#E5ECF6",
              "width": 0.5
             }
            },
            "type": "barpolar"
           }
          ],
          "carpet": [
           {
            "aaxis": {
             "endlinecolor": "#2a3f5f",
             "gridcolor": "white",
             "linecolor": "white",
             "minorgridcolor": "white",
             "startlinecolor": "#2a3f5f"
            },
            "baxis": {
             "endlinecolor": "#2a3f5f",
             "gridcolor": "white",
             "linecolor": "white",
             "minorgridcolor": "white",
             "startlinecolor": "#2a3f5f"
            },
            "type": "carpet"
           }
          ],
          "choropleth": [
           {
            "colorbar": {
             "outlinewidth": 0,
             "ticks": ""
            },
            "type": "choropleth"
           }
          ],
          "contour": [
           {
            "colorbar": {
             "outlinewidth": 0,
             "ticks": ""
            },
            "colorscale": [
             [
              0,
              "#0d0887"
             ],
             [
              0.1111111111111111,
              "#46039f"
             ],
             [
              0.2222222222222222,
              "#7201a8"
             ],
             [
              0.3333333333333333,
              "#9c179e"
             ],
             [
              0.4444444444444444,
              "#bd3786"
             ],
             [
              0.5555555555555556,
              "#d8576b"
             ],
             [
              0.6666666666666666,
              "#ed7953"
             ],
             [
              0.7777777777777778,
              "#fb9f3a"
             ],
             [
              0.8888888888888888,
              "#fdca26"
             ],
             [
              1,
              "#f0f921"
             ]
            ],
            "type": "contour"
           }
          ],
          "contourcarpet": [
           {
            "colorbar": {
             "outlinewidth": 0,
             "ticks": ""
            },
            "type": "contourcarpet"
           }
          ],
          "heatmap": [
           {
            "colorbar": {
             "outlinewidth": 0,
             "ticks": ""
            },
            "colorscale": [
             [
              0,
              "#0d0887"
             ],
             [
              0.1111111111111111,
              "#46039f"
             ],
             [
              0.2222222222222222,
              "#7201a8"
             ],
             [
              0.3333333333333333,
              "#9c179e"
             ],
             [
              0.4444444444444444,
              "#bd3786"
             ],
             [
              0.5555555555555556,
              "#d8576b"
             ],
             [
              0.6666666666666666,
              "#ed7953"
             ],
             [
              0.7777777777777778,
              "#fb9f3a"
             ],
             [
              0.8888888888888888,
              "#fdca26"
             ],
             [
              1,
              "#f0f921"
             ]
            ],
            "type": "heatmap"
           }
          ],
          "heatmapgl": [
           {
            "colorbar": {
             "outlinewidth": 0,
             "ticks": ""
            },
            "colorscale": [
             [
              0,
              "#0d0887"
             ],
             [
              0.1111111111111111,
              "#46039f"
             ],
             [
              0.2222222222222222,
              "#7201a8"
             ],
             [
              0.3333333333333333,
              "#9c179e"
             ],
             [
              0.4444444444444444,
              "#bd3786"
             ],
             [
              0.5555555555555556,
              "#d8576b"
             ],
             [
              0.6666666666666666,
              "#ed7953"
             ],
             [
              0.7777777777777778,
              "#fb9f3a"
             ],
             [
              0.8888888888888888,
              "#fdca26"
             ],
             [
              1,
              "#f0f921"
             ]
            ],
            "type": "heatmapgl"
           }
          ],
          "histogram": [
           {
            "marker": {
             "colorbar": {
              "outlinewidth": 0,
              "ticks": ""
             }
            },
            "type": "histogram"
           }
          ],
          "histogram2d": [
           {
            "colorbar": {
             "outlinewidth": 0,
             "ticks": ""
            },
            "colorscale": [
             [
              0,
              "#0d0887"
             ],
             [
              0.1111111111111111,
              "#46039f"
             ],
             [
              0.2222222222222222,
              "#7201a8"
             ],
             [
              0.3333333333333333,
              "#9c179e"
             ],
             [
              0.4444444444444444,
              "#bd3786"
             ],
             [
              0.5555555555555556,
              "#d8576b"
             ],
             [
              0.6666666666666666,
              "#ed7953"
             ],
             [
              0.7777777777777778,
              "#fb9f3a"
             ],
             [
              0.8888888888888888,
              "#fdca26"
             ],
             [
              1,
              "#f0f921"
             ]
            ],
            "type": "histogram2d"
           }
          ],
          "histogram2dcontour": [
           {
            "colorbar": {
             "outlinewidth": 0,
             "ticks": ""
            },
            "colorscale": [
             [
              0,
              "#0d0887"
             ],
             [
              0.1111111111111111,
              "#46039f"
             ],
             [
              0.2222222222222222,
              "#7201a8"
             ],
             [
              0.3333333333333333,
              "#9c179e"
             ],
             [
              0.4444444444444444,
              "#bd3786"
             ],
             [
              0.5555555555555556,
              "#d8576b"
             ],
             [
              0.6666666666666666,
              "#ed7953"
             ],
             [
              0.7777777777777778,
              "#fb9f3a"
             ],
             [
              0.8888888888888888,
              "#fdca26"
             ],
             [
              1,
              "#f0f921"
             ]
            ],
            "type": "histogram2dcontour"
           }
          ],
          "mesh3d": [
           {
            "colorbar": {
             "outlinewidth": 0,
             "ticks": ""
            },
            "type": "mesh3d"
           }
          ],
          "parcoords": [
           {
            "line": {
             "colorbar": {
              "outlinewidth": 0,
              "ticks": ""
             }
            },
            "type": "parcoords"
           }
          ],
          "pie": [
           {
            "automargin": true,
            "type": "pie"
           }
          ],
          "scatter": [
           {
            "marker": {
             "colorbar": {
              "outlinewidth": 0,
              "ticks": ""
             }
            },
            "type": "scatter"
           }
          ],
          "scatter3d": [
           {
            "line": {
             "colorbar": {
              "outlinewidth": 0,
              "ticks": ""
             }
            },
            "marker": {
             "colorbar": {
              "outlinewidth": 0,
              "ticks": ""
             }
            },
            "type": "scatter3d"
           }
          ],
          "scattercarpet": [
           {
            "marker": {
             "colorbar": {
              "outlinewidth": 0,
              "ticks": ""
             }
            },
            "type": "scattercarpet"
           }
          ],
          "scattergeo": [
           {
            "marker": {
             "colorbar": {
              "outlinewidth": 0,
              "ticks": ""
             }
            },
            "type": "scattergeo"
           }
          ],
          "scattergl": [
           {
            "marker": {
             "colorbar": {
              "outlinewidth": 0,
              "ticks": ""
             }
            },
            "type": "scattergl"
           }
          ],
          "scattermapbox": [
           {
            "marker": {
             "colorbar": {
              "outlinewidth": 0,
              "ticks": ""
             }
            },
            "type": "scattermapbox"
           }
          ],
          "scatterpolar": [
           {
            "marker": {
             "colorbar": {
              "outlinewidth": 0,
              "ticks": ""
             }
            },
            "type": "scatterpolar"
           }
          ],
          "scatterpolargl": [
           {
            "marker": {
             "colorbar": {
              "outlinewidth": 0,
              "ticks": ""
             }
            },
            "type": "scatterpolargl"
           }
          ],
          "scatterternary": [
           {
            "marker": {
             "colorbar": {
              "outlinewidth": 0,
              "ticks": ""
             }
            },
            "type": "scatterternary"
           }
          ],
          "surface": [
           {
            "colorbar": {
             "outlinewidth": 0,
             "ticks": ""
            },
            "colorscale": [
             [
              0,
              "#0d0887"
             ],
             [
              0.1111111111111111,
              "#46039f"
             ],
             [
              0.2222222222222222,
              "#7201a8"
             ],
             [
              0.3333333333333333,
              "#9c179e"
             ],
             [
              0.4444444444444444,
              "#bd3786"
             ],
             [
              0.5555555555555556,
              "#d8576b"
             ],
             [
              0.6666666666666666,
              "#ed7953"
             ],
             [
              0.7777777777777778,
              "#fb9f3a"
             ],
             [
              0.8888888888888888,
              "#fdca26"
             ],
             [
              1,
              "#f0f921"
             ]
            ],
            "type": "surface"
           }
          ],
          "table": [
           {
            "cells": {
             "fill": {
              "color": "#EBF0F8"
             },
             "line": {
              "color": "white"
             }
            },
            "header": {
             "fill": {
              "color": "#C8D4E3"
             },
             "line": {
              "color": "white"
             }
            },
            "type": "table"
           }
          ]
         },
         "layout": {
          "annotationdefaults": {
           "arrowcolor": "#2a3f5f",
           "arrowhead": 0,
           "arrowwidth": 1
          },
          "coloraxis": {
           "colorbar": {
            "outlinewidth": 0,
            "ticks": ""
           }
          },
          "colorscale": {
           "diverging": [
            [
             0,
             "#8e0152"
            ],
            [
             0.1,
             "#c51b7d"
            ],
            [
             0.2,
             "#de77ae"
            ],
            [
             0.3,
             "#f1b6da"
            ],
            [
             0.4,
             "#fde0ef"
            ],
            [
             0.5,
             "#f7f7f7"
            ],
            [
             0.6,
             "#e6f5d0"
            ],
            [
             0.7,
             "#b8e186"
            ],
            [
             0.8,
             "#7fbc41"
            ],
            [
             0.9,
             "#4d9221"
            ],
            [
             1,
             "#276419"
            ]
           ],
           "sequential": [
            [
             0,
             "#0d0887"
            ],
            [
             0.1111111111111111,
             "#46039f"
            ],
            [
             0.2222222222222222,
             "#7201a8"
            ],
            [
             0.3333333333333333,
             "#9c179e"
            ],
            [
             0.4444444444444444,
             "#bd3786"
            ],
            [
             0.5555555555555556,
             "#d8576b"
            ],
            [
             0.6666666666666666,
             "#ed7953"
            ],
            [
             0.7777777777777778,
             "#fb9f3a"
            ],
            [
             0.8888888888888888,
             "#fdca26"
            ],
            [
             1,
             "#f0f921"
            ]
           ],
           "sequentialminus": [
            [
             0,
             "#0d0887"
            ],
            [
             0.1111111111111111,
             "#46039f"
            ],
            [
             0.2222222222222222,
             "#7201a8"
            ],
            [
             0.3333333333333333,
             "#9c179e"
            ],
            [
             0.4444444444444444,
             "#bd3786"
            ],
            [
             0.5555555555555556,
             "#d8576b"
            ],
            [
             0.6666666666666666,
             "#ed7953"
            ],
            [
             0.7777777777777778,
             "#fb9f3a"
            ],
            [
             0.8888888888888888,
             "#fdca26"
            ],
            [
             1,
             "#f0f921"
            ]
           ]
          },
          "colorway": [
           "#636efa",
           "#EF553B",
           "#00cc96",
           "#ab63fa",
           "#FFA15A",
           "#19d3f3",
           "#FF6692",
           "#B6E880",
           "#FF97FF",
           "#FECB52"
          ],
          "font": {
           "color": "#2a3f5f"
          },
          "geo": {
           "bgcolor": "white",
           "lakecolor": "white",
           "landcolor": "#E5ECF6",
           "showlakes": true,
           "showland": true,
           "subunitcolor": "white"
          },
          "hoverlabel": {
           "align": "left"
          },
          "hovermode": "closest",
          "mapbox": {
           "style": "light"
          },
          "paper_bgcolor": "white",
          "plot_bgcolor": "#E5ECF6",
          "polar": {
           "angularaxis": {
            "gridcolor": "white",
            "linecolor": "white",
            "ticks": ""
           },
           "bgcolor": "#E5ECF6",
           "radialaxis": {
            "gridcolor": "white",
            "linecolor": "white",
            "ticks": ""
           }
          },
          "scene": {
           "xaxis": {
            "backgroundcolor": "#E5ECF6",
            "gridcolor": "white",
            "gridwidth": 2,
            "linecolor": "white",
            "showbackground": true,
            "ticks": "",
            "zerolinecolor": "white"
           },
           "yaxis": {
            "backgroundcolor": "#E5ECF6",
            "gridcolor": "white",
            "gridwidth": 2,
            "linecolor": "white",
            "showbackground": true,
            "ticks": "",
            "zerolinecolor": "white"
           },
           "zaxis": {
            "backgroundcolor": "#E5ECF6",
            "gridcolor": "white",
            "gridwidth": 2,
            "linecolor": "white",
            "showbackground": true,
            "ticks": "",
            "zerolinecolor": "white"
           }
          },
          "shapedefaults": {
           "line": {
            "color": "#2a3f5f"
           }
          },
          "ternary": {
           "aaxis": {
            "gridcolor": "white",
            "linecolor": "white",
            "ticks": ""
           },
           "baxis": {
            "gridcolor": "white",
            "linecolor": "white",
            "ticks": ""
           },
           "bgcolor": "#E5ECF6",
           "caxis": {
            "gridcolor": "white",
            "linecolor": "white",
            "ticks": ""
           }
          },
          "title": {
           "x": 0.05
          },
          "xaxis": {
           "automargin": true,
           "gridcolor": "white",
           "linecolor": "white",
           "ticks": "",
           "title": {
            "standoff": 15
           },
           "zerolinecolor": "white",
           "zerolinewidth": 2
          },
          "yaxis": {
           "automargin": true,
           "gridcolor": "white",
           "linecolor": "white",
           "ticks": "",
           "title": {
            "standoff": 15
           },
           "zerolinecolor": "white",
           "zerolinewidth": 2
          }
         }
        },
        "xaxis": {
         "anchor": "y",
         "domain": [
          0,
          1
         ],
         "title": {
          "text": "match_rate_perc"
         }
        },
        "yaxis": {
         "anchor": "x",
         "domain": [
          0,
          1
         ],
         "title": {
          "text": "count"
         }
        }
       }
      },
      "text/html": [
       "<div>\n",
       "        \n",
       "        \n",
       "            <div id=\"002699de-5bed-47a8-a77a-399c82723d92\" class=\"plotly-graph-div\" style=\"height:525px; width:100%;\"></div>\n",
       "            <script type=\"text/javascript\">\n",
       "                require([\"plotly\"], function(Plotly) {\n",
       "                    window.PLOTLYENV=window.PLOTLYENV || {};\n",
       "                    \n",
       "                if (document.getElementById(\"002699de-5bed-47a8-a77a-399c82723d92\")) {\n",
       "                    Plotly.newPlot(\n",
       "                        '002699de-5bed-47a8-a77a-399c82723d92',\n",
       "                        [{\"alignmentgroup\": \"True\", \"bingroup\": \"x\", \"histnorm\": \"probability density\", \"hovertemplate\": \"match_rate_perc=%{x}<br>count=%{y}<extra></extra>\", \"legendgroup\": \"\", \"marker\": {\"color\": \"#636efa\"}, \"name\": \"\", \"offsetgroup\": \"\", \"orientation\": \"v\", \"showlegend\": false, \"type\": \"histogram\", \"x\": [22.22222222222222, 50.0, 8.333333333333332, 0.0, 15.0, 9.090909090909092, 0.0, 0.0, 20.0, 20.0, 15.384615384615385, 20.0, 0.0, 23.076923076923077, 10.0, 0.0, 18.181818181818183, 10.0, 33.33333333333333, 27.27272727272727, 42.857142857142854, 18.75, 7.6923076923076925, 27.27272727272727, 36.36363636363637, 17.647058823529413, 20.0, 11.11111111111111, 0.0, 33.33333333333333, 23.076923076923077, 35.714285714285715, 9.090909090909092, 60.0, 0.0, 40.0, 25.0, 8.333333333333332, 0.0, 30.0, 20.0, 33.33333333333333, 22.22222222222222, 10.0, 14.285714285714285, 22.22222222222222, 11.11111111111111, 7.6923076923076925, 30.0, 0.0, 25.0, 38.46153846153847, 26.666666666666668, 0.0, 22.22222222222222, 28.57142857142857, 12.5, 25.0, 18.181818181818183, 0.0, 0.0, 7.6923076923076925, 14.285714285714285, 21.428571428571427, 20.0, 33.33333333333333, 27.27272727272727, 0.0, 50.0, 0.0, 6.666666666666667, 0.0, 9.090909090909092, 0.0, 23.076923076923077, 0.0, 7.6923076923076925, 17.647058823529413, 42.857142857142854, 20.0, 18.75, 14.285714285714285, 27.27272727272727, 22.22222222222222, 21.428571428571427, 16.666666666666664, 0.0, 27.27272727272727, 6.25, 27.27272727272727, 18.181818181818183, 12.5, 11.11111111111111, 0.0, 16.666666666666664, 7.142857142857142, 30.0, 54.54545454545454, 0.0, 33.33333333333333, 0.0, 25.0, 16.666666666666664, 30.0, 33.33333333333333, 11.11111111111111, 30.0, 0.0, 14.285714285714285, 42.857142857142854, 22.22222222222222, 15.384615384615385, 30.76923076923077, 20.0, 9.090909090909092, 20.0, 28.57142857142857, 0.0, 23.076923076923077, 16.666666666666664, 35.714285714285715, 16.666666666666664, 14.285714285714285, 30.76923076923077, 33.33333333333333, 0.0, 27.27272727272727, 12.5, 37.5, 16.666666666666664, 0.0, 20.0, 0.0, 0.0, 12.5, 11.11111111111111, 25.0, 8.333333333333332, 0.0, 27.27272727272727, 6.25, 16.666666666666664, 0.0, 27.27272727272727, 14.285714285714285, 42.857142857142854, 33.33333333333333, 11.11111111111111, 28.57142857142857, 0.0, 45.45454545454545, 30.0, 14.285714285714285, 22.22222222222222, 11.11111111111111, 20.0, 14.285714285714285, 10.0, 33.33333333333333, 11.11111111111111, 27.27272727272727, 25.0, 20.0, 22.22222222222222, 10.0, 9.090909090909092, 0.0, 0.0, 25.0, 9.090909090909092, 14.285714285714285, 10.0, 16.666666666666664, 40.0, 28.57142857142857, 16.666666666666664, 22.22222222222222, 36.36363636363637, 9.090909090909092, 25.0, 0.0, 25.0, 15.384615384615385, 18.75, 28.57142857142857, 7.6923076923076925, 18.181818181818183, 25.0, 25.0, 30.0, 16.666666666666664, 16.666666666666664, 20.0, 7.142857142857142, 33.33333333333333, 0.0, 15.384615384615385, 30.0, 14.285714285714285, 22.22222222222222, 33.33333333333333, 11.11111111111111, 27.27272727272727, 40.0, 22.22222222222222, 14.285714285714285, 33.33333333333333, 18.181818181818183, 7.142857142857142, 30.0, 40.0, 0.0, 8.333333333333332, 44.44444444444444, 0.0, 18.181818181818183, 16.666666666666664, 20.0, 8.333333333333332, 10.0, 0.0, 44.44444444444444, 27.27272727272727, 15.384615384615385, 37.5, 20.0, 33.33333333333333, 20.0, 7.142857142857142, 16.666666666666664, 11.11111111111111, 0.0, 0.0, 27.27272727272727, 36.36363636363637, 16.666666666666664, 37.5, 20.0, 18.181818181818183, 16.666666666666664, 11.11111111111111, 10.0, 25.0, 0.0, 0.0, 30.0, 10.0, 50.0, 0.0, 23.076923076923077, 0.0, 22.22222222222222, 0.0, 12.5, 16.666666666666664, 50.0, 9.090909090909092, 42.857142857142854, 10.0, 31.25, 18.181818181818183, 25.0, 16.666666666666664, 15.384615384615385, 16.666666666666664, 7.6923076923076925, 0.0, 25.0, 26.666666666666668, 0.0, 12.5, 18.181818181818183, 22.22222222222222, 20.0, 0.0, 36.36363636363637, 16.666666666666664, 0.0, 16.666666666666664, 30.0, 14.285714285714285, 22.22222222222222, 22.22222222222222, 42.857142857142854, 40.0, 20.0, 30.0, 35.714285714285715, 11.11111111111111, 28.57142857142857, 12.5, 50.0, 12.5, 9.090909090909092, 50.0, 0.0, 36.36363636363637, 0.0, 20.0, 9.090909090909092, 16.666666666666664, 14.285714285714285, 33.33333333333333, 25.0, 16.666666666666664, 9.090909090909092, 16.666666666666664, 20.0, 25.0, 14.285714285714285, 33.33333333333333, 22.22222222222222, 9.090909090909092, 30.76923076923077, 54.54545454545454, 0.0, 16.666666666666664, 40.0, 37.5, 0.0, 22.22222222222222, 14.285714285714285, 30.0, 16.666666666666664, 12.5, 16.666666666666664, 0.0, 16.666666666666664, 0.0, 25.0, 25.0, 16.666666666666664, 33.33333333333333, 0.0, 33.33333333333333, 0.0, 16.666666666666664, 22.22222222222222, 8.333333333333332, 14.285714285714285, 50.0, 37.5, 38.46153846153847, 27.27272727272727, 6.666666666666667, 33.33333333333333, 30.76923076923077, 33.33333333333333, 7.6923076923076925, 12.5, 12.5, 25.0, 12.5, 33.33333333333333, 25.0, 14.285714285714285, 33.33333333333333, 18.181818181818183, 16.666666666666664, 14.285714285714285, 7.6923076923076925, 44.44444444444444, 21.428571428571427, 28.57142857142857, 33.33333333333333, 0.0, 56.25, 0.0, 0.0, 0.0, 20.0, 20.0, 25.0, 30.0, 16.666666666666664, 11.11111111111111, 16.666666666666664, 10.0, 25.0, 0.0, 22.22222222222222, 20.0, 42.857142857142854, 33.33333333333333, 33.33333333333333, 0.0, 40.0, 25.0, 0.0, 16.666666666666664, 11.11111111111111, 22.22222222222222, 22.22222222222222, 12.5, 20.0, 18.181818181818183, 0.0, 21.428571428571427, 12.5, 0.0, 27.27272727272727, 13.333333333333334, 40.0, 66.66666666666666, 16.666666666666664, 16.666666666666664, 33.33333333333333, 18.181818181818183, 18.75, 22.22222222222222, 14.285714285714285, 30.0, 20.0, 14.285714285714285, 0.0, 0.0, 20.0, 0.0, 12.5, 36.36363636363637, 22.22222222222222, 0.0, 22.22222222222222, 40.0, 0.0, 16.666666666666664, 27.27272727272727, 0.0, 11.11111111111111, 25.0, 0.0, 16.666666666666664, 12.5, 28.57142857142857, 25.0, 30.0, 40.0, 16.666666666666664, 12.5, 20.0, 8.333333333333332, 9.090909090909092, 0.0, 20.0, 27.27272727272727, 12.5, 28.57142857142857, 28.57142857142857, 12.5, 14.285714285714285, 0.0, 20.0, 14.285714285714285, 25.0, 44.44444444444444, 16.666666666666664, 36.36363636363637, 0.0, 10.0, 12.5, 16.666666666666664, 15.384615384615385, 8.333333333333332, 35.714285714285715, 50.0, 12.5, 66.66666666666666, 0.0, 50.0, 33.33333333333333, 37.5, 20.0, 0.0, 50.0, 23.076923076923077, 16.666666666666664, 25.0, 33.33333333333333, 20.0, 0.0, 66.66666666666666, 25.0, 45.45454545454545, 37.5, 9.090909090909092, 25.0, 27.27272727272727, 14.285714285714285, 23.076923076923077, 25.0, 0.0, 36.36363636363637, 16.666666666666664, 23.52941176470588, 16.666666666666664, 33.33333333333333, 22.22222222222222, 25.0, 12.5, 8.333333333333332, 28.57142857142857], \"xaxis\": \"x\", \"yaxis\": \"y\"}],\n",
       "                        {\"barmode\": \"relative\", \"legend\": {\"tracegroupgap\": 0}, \"margin\": {\"t\": 60}, \"template\": {\"data\": {\"bar\": [{\"error_x\": {\"color\": \"#2a3f5f\"}, \"error_y\": {\"color\": \"#2a3f5f\"}, \"marker\": {\"line\": {\"color\": \"#E5ECF6\", \"width\": 0.5}}, \"type\": \"bar\"}], \"barpolar\": [{\"marker\": {\"line\": {\"color\": \"#E5ECF6\", \"width\": 0.5}}, \"type\": \"barpolar\"}], \"carpet\": [{\"aaxis\": {\"endlinecolor\": \"#2a3f5f\", \"gridcolor\": \"white\", \"linecolor\": \"white\", \"minorgridcolor\": \"white\", \"startlinecolor\": \"#2a3f5f\"}, \"baxis\": {\"endlinecolor\": \"#2a3f5f\", \"gridcolor\": \"white\", \"linecolor\": \"white\", \"minorgridcolor\": \"white\", \"startlinecolor\": \"#2a3f5f\"}, \"type\": \"carpet\"}], \"choropleth\": [{\"colorbar\": {\"outlinewidth\": 0, \"ticks\": \"\"}, \"type\": \"choropleth\"}], \"contour\": [{\"colorbar\": {\"outlinewidth\": 0, \"ticks\": \"\"}, \"colorscale\": [[0.0, \"#0d0887\"], [0.1111111111111111, \"#46039f\"], [0.2222222222222222, \"#7201a8\"], [0.3333333333333333, \"#9c179e\"], [0.4444444444444444, \"#bd3786\"], [0.5555555555555556, \"#d8576b\"], [0.6666666666666666, \"#ed7953\"], [0.7777777777777778, \"#fb9f3a\"], [0.8888888888888888, \"#fdca26\"], [1.0, \"#f0f921\"]], \"type\": \"contour\"}], \"contourcarpet\": [{\"colorbar\": {\"outlinewidth\": 0, \"ticks\": \"\"}, \"type\": \"contourcarpet\"}], \"heatmap\": [{\"colorbar\": {\"outlinewidth\": 0, \"ticks\": \"\"}, \"colorscale\": [[0.0, \"#0d0887\"], [0.1111111111111111, \"#46039f\"], [0.2222222222222222, \"#7201a8\"], [0.3333333333333333, \"#9c179e\"], [0.4444444444444444, \"#bd3786\"], [0.5555555555555556, \"#d8576b\"], [0.6666666666666666, \"#ed7953\"], [0.7777777777777778, \"#fb9f3a\"], [0.8888888888888888, \"#fdca26\"], [1.0, \"#f0f921\"]], \"type\": \"heatmap\"}], \"heatmapgl\": [{\"colorbar\": {\"outlinewidth\": 0, \"ticks\": \"\"}, \"colorscale\": [[0.0, \"#0d0887\"], [0.1111111111111111, \"#46039f\"], [0.2222222222222222, \"#7201a8\"], [0.3333333333333333, \"#9c179e\"], [0.4444444444444444, \"#bd3786\"], [0.5555555555555556, \"#d8576b\"], [0.6666666666666666, \"#ed7953\"], [0.7777777777777778, \"#fb9f3a\"], [0.8888888888888888, \"#fdca26\"], [1.0, \"#f0f921\"]], \"type\": \"heatmapgl\"}], \"histogram\": [{\"marker\": {\"colorbar\": {\"outlinewidth\": 0, \"ticks\": \"\"}}, \"type\": \"histogram\"}], \"histogram2d\": [{\"colorbar\": {\"outlinewidth\": 0, \"ticks\": \"\"}, \"colorscale\": [[0.0, \"#0d0887\"], [0.1111111111111111, \"#46039f\"], [0.2222222222222222, \"#7201a8\"], [0.3333333333333333, \"#9c179e\"], [0.4444444444444444, \"#bd3786\"], [0.5555555555555556, \"#d8576b\"], [0.6666666666666666, \"#ed7953\"], [0.7777777777777778, \"#fb9f3a\"], [0.8888888888888888, \"#fdca26\"], [1.0, \"#f0f921\"]], \"type\": \"histogram2d\"}], \"histogram2dcontour\": [{\"colorbar\": {\"outlinewidth\": 0, \"ticks\": \"\"}, \"colorscale\": [[0.0, \"#0d0887\"], [0.1111111111111111, \"#46039f\"], [0.2222222222222222, \"#7201a8\"], [0.3333333333333333, \"#9c179e\"], [0.4444444444444444, \"#bd3786\"], [0.5555555555555556, \"#d8576b\"], [0.6666666666666666, \"#ed7953\"], [0.7777777777777778, \"#fb9f3a\"], [0.8888888888888888, \"#fdca26\"], [1.0, \"#f0f921\"]], \"type\": \"histogram2dcontour\"}], \"mesh3d\": [{\"colorbar\": {\"outlinewidth\": 0, \"ticks\": \"\"}, \"type\": \"mesh3d\"}], \"parcoords\": [{\"line\": {\"colorbar\": {\"outlinewidth\": 0, \"ticks\": \"\"}}, \"type\": \"parcoords\"}], \"pie\": [{\"automargin\": true, \"type\": \"pie\"}], \"scatter\": [{\"marker\": {\"colorbar\": {\"outlinewidth\": 0, \"ticks\": \"\"}}, \"type\": \"scatter\"}], \"scatter3d\": [{\"line\": {\"colorbar\": {\"outlinewidth\": 0, \"ticks\": \"\"}}, \"marker\": {\"colorbar\": {\"outlinewidth\": 0, \"ticks\": \"\"}}, \"type\": \"scatter3d\"}], \"scattercarpet\": [{\"marker\": {\"colorbar\": {\"outlinewidth\": 0, \"ticks\": \"\"}}, \"type\": \"scattercarpet\"}], \"scattergeo\": [{\"marker\": {\"colorbar\": {\"outlinewidth\": 0, \"ticks\": \"\"}}, \"type\": \"scattergeo\"}], \"scattergl\": [{\"marker\": {\"colorbar\": {\"outlinewidth\": 0, \"ticks\": \"\"}}, \"type\": \"scattergl\"}], \"scattermapbox\": [{\"marker\": {\"colorbar\": {\"outlinewidth\": 0, \"ticks\": \"\"}}, \"type\": \"scattermapbox\"}], \"scatterpolar\": [{\"marker\": {\"colorbar\": {\"outlinewidth\": 0, \"ticks\": \"\"}}, \"type\": \"scatterpolar\"}], \"scatterpolargl\": [{\"marker\": {\"colorbar\": {\"outlinewidth\": 0, \"ticks\": \"\"}}, \"type\": \"scatterpolargl\"}], \"scatterternary\": [{\"marker\": {\"colorbar\": {\"outlinewidth\": 0, \"ticks\": \"\"}}, \"type\": \"scatterternary\"}], \"surface\": [{\"colorbar\": {\"outlinewidth\": 0, \"ticks\": \"\"}, \"colorscale\": [[0.0, \"#0d0887\"], [0.1111111111111111, \"#46039f\"], [0.2222222222222222, \"#7201a8\"], [0.3333333333333333, \"#9c179e\"], [0.4444444444444444, \"#bd3786\"], [0.5555555555555556, \"#d8576b\"], [0.6666666666666666, \"#ed7953\"], [0.7777777777777778, \"#fb9f3a\"], [0.8888888888888888, \"#fdca26\"], [1.0, \"#f0f921\"]], \"type\": \"surface\"}], \"table\": [{\"cells\": {\"fill\": {\"color\": \"#EBF0F8\"}, \"line\": {\"color\": \"white\"}}, \"header\": {\"fill\": {\"color\": \"#C8D4E3\"}, \"line\": {\"color\": \"white\"}}, \"type\": \"table\"}]}, \"layout\": {\"annotationdefaults\": {\"arrowcolor\": \"#2a3f5f\", \"arrowhead\": 0, \"arrowwidth\": 1}, \"coloraxis\": {\"colorbar\": {\"outlinewidth\": 0, \"ticks\": \"\"}}, \"colorscale\": {\"diverging\": [[0, \"#8e0152\"], [0.1, \"#c51b7d\"], [0.2, \"#de77ae\"], [0.3, \"#f1b6da\"], [0.4, \"#fde0ef\"], [0.5, \"#f7f7f7\"], [0.6, \"#e6f5d0\"], [0.7, \"#b8e186\"], [0.8, \"#7fbc41\"], [0.9, \"#4d9221\"], [1, \"#276419\"]], \"sequential\": [[0.0, \"#0d0887\"], [0.1111111111111111, \"#46039f\"], [0.2222222222222222, \"#7201a8\"], [0.3333333333333333, \"#9c179e\"], [0.4444444444444444, \"#bd3786\"], [0.5555555555555556, \"#d8576b\"], [0.6666666666666666, \"#ed7953\"], [0.7777777777777778, \"#fb9f3a\"], [0.8888888888888888, \"#fdca26\"], [1.0, \"#f0f921\"]], \"sequentialminus\": [[0.0, \"#0d0887\"], [0.1111111111111111, \"#46039f\"], [0.2222222222222222, \"#7201a8\"], [0.3333333333333333, \"#9c179e\"], [0.4444444444444444, \"#bd3786\"], [0.5555555555555556, \"#d8576b\"], [0.6666666666666666, \"#ed7953\"], [0.7777777777777778, \"#fb9f3a\"], [0.8888888888888888, \"#fdca26\"], [1.0, \"#f0f921\"]]}, \"colorway\": [\"#636efa\", \"#EF553B\", \"#00cc96\", \"#ab63fa\", \"#FFA15A\", \"#19d3f3\", \"#FF6692\", \"#B6E880\", \"#FF97FF\", \"#FECB52\"], \"font\": {\"color\": \"#2a3f5f\"}, \"geo\": {\"bgcolor\": \"white\", \"lakecolor\": \"white\", \"landcolor\": \"#E5ECF6\", \"showlakes\": true, \"showland\": true, \"subunitcolor\": \"white\"}, \"hoverlabel\": {\"align\": \"left\"}, \"hovermode\": \"closest\", \"mapbox\": {\"style\": \"light\"}, \"paper_bgcolor\": \"white\", \"plot_bgcolor\": \"#E5ECF6\", \"polar\": {\"angularaxis\": {\"gridcolor\": \"white\", \"linecolor\": \"white\", \"ticks\": \"\"}, \"bgcolor\": \"#E5ECF6\", \"radialaxis\": {\"gridcolor\": \"white\", \"linecolor\": \"white\", \"ticks\": \"\"}}, \"scene\": {\"xaxis\": {\"backgroundcolor\": \"#E5ECF6\", \"gridcolor\": \"white\", \"gridwidth\": 2, \"linecolor\": \"white\", \"showbackground\": true, \"ticks\": \"\", \"zerolinecolor\": \"white\"}, \"yaxis\": {\"backgroundcolor\": \"#E5ECF6\", \"gridcolor\": \"white\", \"gridwidth\": 2, \"linecolor\": \"white\", \"showbackground\": true, \"ticks\": \"\", \"zerolinecolor\": \"white\"}, \"zaxis\": {\"backgroundcolor\": \"#E5ECF6\", \"gridcolor\": \"white\", \"gridwidth\": 2, \"linecolor\": \"white\", \"showbackground\": true, \"ticks\": \"\", \"zerolinecolor\": \"white\"}}, \"shapedefaults\": {\"line\": {\"color\": \"#2a3f5f\"}}, \"ternary\": {\"aaxis\": {\"gridcolor\": \"white\", \"linecolor\": \"white\", \"ticks\": \"\"}, \"baxis\": {\"gridcolor\": \"white\", \"linecolor\": \"white\", \"ticks\": \"\"}, \"bgcolor\": \"#E5ECF6\", \"caxis\": {\"gridcolor\": \"white\", \"linecolor\": \"white\", \"ticks\": \"\"}}, \"title\": {\"x\": 0.05}, \"xaxis\": {\"automargin\": true, \"gridcolor\": \"white\", \"linecolor\": \"white\", \"ticks\": \"\", \"title\": {\"standoff\": 15}, \"zerolinecolor\": \"white\", \"zerolinewidth\": 2}, \"yaxis\": {\"automargin\": true, \"gridcolor\": \"white\", \"linecolor\": \"white\", \"ticks\": \"\", \"title\": {\"standoff\": 15}, \"zerolinecolor\": \"white\", \"zerolinewidth\": 2}}}, \"xaxis\": {\"anchor\": \"y\", \"domain\": [0.0, 1.0], \"title\": {\"text\": \"match_rate_perc\"}}, \"yaxis\": {\"anchor\": \"x\", \"domain\": [0.0, 1.0], \"title\": {\"text\": \"count\"}}},\n",
       "                        {\"responsive\": true}\n",
       "                    ).then(function(){\n",
       "                            \n",
       "var gd = document.getElementById('002699de-5bed-47a8-a77a-399c82723d92');\n",
       "var x = new MutationObserver(function (mutations, observer) {{\n",
       "        var display = window.getComputedStyle(gd).display;\n",
       "        if (!display || display === 'none') {{\n",
       "            console.log([gd, 'removed!']);\n",
       "            Plotly.purge(gd);\n",
       "            observer.disconnect();\n",
       "        }}\n",
       "}});\n",
       "\n",
       "// Listen for the removal of the full notebook cells\n",
       "var notebookContainer = gd.closest('#notebook-container');\n",
       "if (notebookContainer) {{\n",
       "    x.observe(notebookContainer, {childList: true});\n",
       "}}\n",
       "\n",
       "// Listen for the clearing of the current output cell\n",
       "var outputEl = gd.closest('.output');\n",
       "if (outputEl) {{\n",
       "    x.observe(outputEl, {childList: true});\n",
       "}}\n",
       "\n",
       "                        })\n",
       "                };\n",
       "                });\n",
       "            </script>\n",
       "        </div>"
      ]
     },
     "metadata": {},
     "output_type": "display_data"
    }
   ],
   "source": [
    "fig = px.histogram(control_df, x='match_rate_perc', histnorm='probability density')\n",
    "fig.show()"
   ]
  },
  {
   "cell_type": "code",
   "execution_count": 311,
   "metadata": {
    "scrolled": false
   },
   "outputs": [
    {
     "data": {
      "application/vnd.plotly.v1+json": {
       "config": {
        "plotlyServerURL": "https://plot.ly"
       },
       "data": [
        {
         "alignmentgroup": "True",
         "bingroup": "x",
         "histnorm": "probability density",
         "hovertemplate": "match_rate_perc=%{x}<br>count=%{y}<extra></extra>",
         "legendgroup": "",
         "marker": {
          "color": "#636efa"
         },
         "name": "",
         "offsetgroup": "",
         "orientation": "v",
         "showlegend": false,
         "type": "histogram",
         "x": [
          45.83333333333333,
          43.75,
          31.25,
          59.09090909090909,
          40.909090909090914,
          52.94117647058824,
          37.5,
          61.904761904761905,
          36.36363636363637,
          66.66666666666666,
          39.130434782608695,
          47.61904761904761,
          25,
          20,
          45,
          26.31578947368421,
          47.368421052631575,
          40,
          69.56521739130434,
          66.66666666666666,
          39.130434782608695,
          32.142857142857146,
          33.33333333333333,
          50,
          57.14285714285714,
          47.368421052631575,
          21.052631578947366,
          56.25,
          50,
          50,
          47.61904761904761,
          18.75,
          40,
          25,
          33.33333333333333,
          36.36363636363637,
          36.36363636363637,
          47.05882352941176,
          38.88888888888889,
          43.75,
          27.27272727272727,
          42.857142857142854,
          50,
          45,
          33.33333333333333,
          41.17647058823529,
          50,
          54.54545454545454,
          44.44444444444444,
          23.809523809523807,
          66.66666666666666,
          58.333333333333336,
          45,
          33.33333333333333,
          17.647058823529413,
          66.66666666666666,
          43.75,
          40,
          50,
          25,
          58.82352941176471,
          45.83333333333333,
          35.294117647058826,
          58.82352941176471,
          31.818181818181817,
          25,
          23.52941176470588,
          31.57894736842105,
          28.57142857142857,
          44,
          40,
          55.00000000000001,
          47.368421052631575,
          40,
          43.75,
          41.66666666666667,
          40,
          28.57142857142857,
          41.17647058823529,
          37.5,
          46.666666666666664,
          36.84210526315789,
          51.724137931034484,
          41.66666666666667,
          32,
          40.909090909090914,
          35.294117647058826,
          31.25,
          71.42857142857143,
          61.904761904761905,
          52.63157894736842,
          33.33333333333333,
          52.38095238095239,
          17.647058823529413,
          33.33333333333333,
          45,
          35,
          43.47826086956522,
          42.857142857142854,
          33.33333333333333,
          57.89473684210527,
          42.10526315789473,
          27.77777777777778,
          27.77777777777778,
          30.434782608695656,
          50,
          38.46153846153847,
          38.095238095238095,
          30,
          41.66666666666667,
          35.294117647058826,
          57.14285714285714,
          40,
          42.857142857142854,
          22.22222222222222,
          38.88888888888889,
          38.095238095238095,
          45,
          35,
          47.82608695652174,
          31.57894736842105,
          26.666666666666668,
          39.130434782608695,
          57.14285714285714,
          45,
          17.647058823529413,
          50,
          34.78260869565217,
          41.17647058823529,
          56.52173913043478,
          30,
          40,
          36.36363636363637,
          40,
          40,
          26.31578947368421,
          47.05882352941176,
          43.75,
          34.78260869565217,
          40.909090909090914,
          36.36363636363637,
          33.33333333333333,
          23.809523809523807,
          39.130434782608695,
          30,
          31.818181818181817,
          52.63157894736842,
          36.84210526315789,
          40,
          50,
          26.31578947368421,
          33.33333333333333,
          31.25,
          41.17647058823529,
          45.45454545454545,
          33.33333333333333,
          58.82352941176471,
          57.89473684210527,
          42.857142857142854,
          29.166666666666668,
          44.44444444444444,
          52.63157894736842,
          33.33333333333333,
          52.38095238095239,
          21.052631578947366,
          32,
          50,
          28.57142857142857,
          50,
          41.66666666666667,
          47.368421052631575,
          56.25,
          14.285714285714285,
          36.84210526315789,
          29.411764705882355,
          38.095238095238095,
          41.17647058823529,
          29.411764705882355,
          22.22222222222222,
          45,
          47.61904761904761,
          35,
          47.368421052631575,
          25,
          23.076923076923077,
          22.727272727272727,
          42.857142857142854,
          28.57142857142857,
          50,
          50,
          31.25,
          42.10526315789473,
          55.00000000000001,
          35,
          52.38095238095239,
          38.88888888888889,
          43.75,
          31.818181818181817,
          40.909090909090914,
          45,
          56.25,
          33.33333333333333,
          50,
          30.434782608695656,
          66.66666666666666,
          25,
          45,
          33.33333333333333,
          50,
          37.5,
          31.25,
          45,
          54.166666666666664,
          53.84615384615385,
          36.84210526315789,
          42.857142857142854,
          42.857142857142854,
          42.10526315789473,
          45,
          47.82608695652174,
          44.44444444444444,
          42.10526315789473,
          30,
          52.38095238095239,
          47.61904761904761,
          27.27272727272727,
          53.84615384615385,
          47.61904761904761,
          42.857142857142854,
          38.095238095238095,
          33.33333333333333,
          52.38095238095239,
          33.33333333333333,
          35,
          31.818181818181817,
          45.83333333333333,
          50,
          47.05882352941176,
          58.333333333333336,
          42.10526315789473,
          25,
          57.14285714285714,
          38.095238095238095,
          47.368421052631575,
          40,
          35,
          42.857142857142854,
          45.83333333333333,
          31.25,
          31.818181818181817,
          33.33333333333333,
          43.47826086956522,
          35.294117647058826,
          47.61904761904761,
          25,
          42.857142857142854,
          26.08695652173913,
          54.54545454545454,
          37.5,
          45.45454545454545,
          21.052631578947366,
          31.818181818181817,
          36.84210526315789,
          0,
          13.636363636363635,
          45.45454545454545,
          36.84210526315789,
          58.82352941176471,
          47.82608695652174,
          36,
          47.61904761904761,
          37.5,
          40,
          31.818181818181817,
          27.77777777777778,
          17.647058823529413,
          41.17647058823529,
          39.130434782608695,
          52,
          30,
          33.33333333333333,
          50,
          56.25,
          41.66666666666667,
          50,
          38.095238095238095,
          40,
          58.82352941176471,
          33.33333333333333,
          47.82608695652174,
          26.31578947368421,
          40,
          22.22222222222222,
          55.55555555555556,
          41.17647058823529,
          38.88888888888889,
          30,
          33.33333333333333,
          50,
          20.833333333333336,
          31.818181818181817,
          47.05882352941176,
          46.15384615384615,
          50,
          22.727272727272727,
          40,
          47.368421052631575,
          47.61904761904761,
          40,
          43.75,
          55.55555555555556,
          53.84615384615385,
          47.61904761904761,
          30,
          16.666666666666664,
          40.909090909090914,
          25,
          52.17391304347826,
          37.5,
          42.857142857142854,
          25,
          41.66666666666667,
          47.82608695652174,
          42.857142857142854,
          21.052631578947366,
          72.22222222222221,
          40.909090909090914,
          36.84210526315789,
          18.75,
          45.45454545454545,
          35.294117647058826,
          57.89473684210527,
          47.368421052631575,
          20,
          38.095238095238095,
          34.78260869565217,
          15,
          57.89473684210527,
          62.5,
          40,
          60.86956521739131,
          31.818181818181817,
          36.36363636363637,
          33.33333333333333,
          22.22222222222222,
          47.368421052631575,
          40.909090909090914,
          45,
          17.391304347826086,
          21.052631578947366,
          35,
          57.89473684210527,
          39.130434782608695,
          38.095238095238095,
          18.181818181818183,
          36.84210526315789,
          30,
          50,
          45.45454545454545,
          45,
          26.666666666666668,
          44.44444444444444,
          38.88888888888889,
          42.10526315789473,
          36.36363636363637,
          41.66666666666667,
          47.82608695652174,
          57.89473684210527,
          56.25,
          45,
          40,
          31.25,
          30,
          41.66666666666667,
          42.857142857142854,
          22.22222222222222,
          25,
          38.88888888888889,
          50,
          35,
          31.57894736842105,
          40.909090909090914,
          40.909090909090914,
          50,
          42.857142857142854,
          18.181818181818183,
          28.57142857142857,
          40,
          35,
          21.052631578947366,
          54.166666666666664,
          27.77777777777778,
          31.57894736842105,
          37.5,
          40,
          71.42857142857143,
          42.10526315789473,
          38.88888888888889,
          50,
          43.75,
          40,
          52.63157894736842,
          56.25,
          23.809523809523807,
          34.61538461538461,
          38.095238095238095,
          50,
          53.57142857142857,
          25,
          47.61904761904761,
          47.82608695652174,
          34.78260869565217,
          33.33333333333333,
          25,
          68.75,
          47.61904761904761,
          40,
          45.45454545454545,
          31.57894736842105,
          45,
          52.94117647058824,
          40,
          35.294117647058826,
          66.66666666666666,
          41.17647058823529,
          38.095238095238095,
          44.44444444444444,
          39.130434782608695,
          50,
          33.33333333333333,
          42.857142857142854,
          34.78260869565217,
          47.61904761904761,
          53.84615384615385,
          16.666666666666664,
          53.333333333333336,
          41.66666666666667,
          22.727272727272727,
          57.14285714285714,
          38.88888888888889,
          52.63157894736842,
          20,
          52.63157894736842,
          21.052631578947366,
          50,
          11.11111111111111,
          47.368421052631575,
          47.368421052631575,
          36.36363636363637,
          27.77777777777778,
          35,
          41.17647058823529,
          26.31578947368421,
          36.84210526315789,
          41.17647058823529,
          20,
          70,
          44.44444444444444,
          31.57894736842105,
          27.77777777777778,
          42.10526315789473,
          61.904761904761905,
          27.77777777777778,
          34.78260869565217,
          20.833333333333336,
          47.61904761904761,
          21.73913043478261,
          45,
          40,
          40.909090909090914,
          23.52941176470588,
          50,
          37.5,
          50,
          50,
          42.10526315789473,
          31.818181818181817,
          47.368421052631575,
          30.434782608695656,
          55.55555555555556,
          35.714285714285715,
          47.61904761904761,
          63.1578947368421,
          31.57894736842105,
          47.368421052631575,
          50,
          45.45454545454545,
          47.05882352941176,
          33.33333333333333,
          27.27272727272727,
          36.36363636363637,
          35,
          26.31578947368421,
          45,
          34.78260869565217,
          38.095238095238095,
          33.33333333333333,
          55.55555555555556,
          52.17391304347826
         ],
         "xaxis": "x",
         "yaxis": "y"
        }
       ],
       "layout": {
        "barmode": "relative",
        "legend": {
         "tracegroupgap": 0
        },
        "margin": {
         "t": 60
        },
        "template": {
         "data": {
          "bar": [
           {
            "error_x": {
             "color": "#2a3f5f"
            },
            "error_y": {
             "color": "#2a3f5f"
            },
            "marker": {
             "line": {
              "color": "#E5ECF6",
              "width": 0.5
             }
            },
            "type": "bar"
           }
          ],
          "barpolar": [
           {
            "marker": {
             "line": {
              "color": "#E5ECF6",
              "width": 0.5
             }
            },
            "type": "barpolar"
           }
          ],
          "carpet": [
           {
            "aaxis": {
             "endlinecolor": "#2a3f5f",
             "gridcolor": "white",
             "linecolor": "white",
             "minorgridcolor": "white",
             "startlinecolor": "#2a3f5f"
            },
            "baxis": {
             "endlinecolor": "#2a3f5f",
             "gridcolor": "white",
             "linecolor": "white",
             "minorgridcolor": "white",
             "startlinecolor": "#2a3f5f"
            },
            "type": "carpet"
           }
          ],
          "choropleth": [
           {
            "colorbar": {
             "outlinewidth": 0,
             "ticks": ""
            },
            "type": "choropleth"
           }
          ],
          "contour": [
           {
            "colorbar": {
             "outlinewidth": 0,
             "ticks": ""
            },
            "colorscale": [
             [
              0,
              "#0d0887"
             ],
             [
              0.1111111111111111,
              "#46039f"
             ],
             [
              0.2222222222222222,
              "#7201a8"
             ],
             [
              0.3333333333333333,
              "#9c179e"
             ],
             [
              0.4444444444444444,
              "#bd3786"
             ],
             [
              0.5555555555555556,
              "#d8576b"
             ],
             [
              0.6666666666666666,
              "#ed7953"
             ],
             [
              0.7777777777777778,
              "#fb9f3a"
             ],
             [
              0.8888888888888888,
              "#fdca26"
             ],
             [
              1,
              "#f0f921"
             ]
            ],
            "type": "contour"
           }
          ],
          "contourcarpet": [
           {
            "colorbar": {
             "outlinewidth": 0,
             "ticks": ""
            },
            "type": "contourcarpet"
           }
          ],
          "heatmap": [
           {
            "colorbar": {
             "outlinewidth": 0,
             "ticks": ""
            },
            "colorscale": [
             [
              0,
              "#0d0887"
             ],
             [
              0.1111111111111111,
              "#46039f"
             ],
             [
              0.2222222222222222,
              "#7201a8"
             ],
             [
              0.3333333333333333,
              "#9c179e"
             ],
             [
              0.4444444444444444,
              "#bd3786"
             ],
             [
              0.5555555555555556,
              "#d8576b"
             ],
             [
              0.6666666666666666,
              "#ed7953"
             ],
             [
              0.7777777777777778,
              "#fb9f3a"
             ],
             [
              0.8888888888888888,
              "#fdca26"
             ],
             [
              1,
              "#f0f921"
             ]
            ],
            "type": "heatmap"
           }
          ],
          "heatmapgl": [
           {
            "colorbar": {
             "outlinewidth": 0,
             "ticks": ""
            },
            "colorscale": [
             [
              0,
              "#0d0887"
             ],
             [
              0.1111111111111111,
              "#46039f"
             ],
             [
              0.2222222222222222,
              "#7201a8"
             ],
             [
              0.3333333333333333,
              "#9c179e"
             ],
             [
              0.4444444444444444,
              "#bd3786"
             ],
             [
              0.5555555555555556,
              "#d8576b"
             ],
             [
              0.6666666666666666,
              "#ed7953"
             ],
             [
              0.7777777777777778,
              "#fb9f3a"
             ],
             [
              0.8888888888888888,
              "#fdca26"
             ],
             [
              1,
              "#f0f921"
             ]
            ],
            "type": "heatmapgl"
           }
          ],
          "histogram": [
           {
            "marker": {
             "colorbar": {
              "outlinewidth": 0,
              "ticks": ""
             }
            },
            "type": "histogram"
           }
          ],
          "histogram2d": [
           {
            "colorbar": {
             "outlinewidth": 0,
             "ticks": ""
            },
            "colorscale": [
             [
              0,
              "#0d0887"
             ],
             [
              0.1111111111111111,
              "#46039f"
             ],
             [
              0.2222222222222222,
              "#7201a8"
             ],
             [
              0.3333333333333333,
              "#9c179e"
             ],
             [
              0.4444444444444444,
              "#bd3786"
             ],
             [
              0.5555555555555556,
              "#d8576b"
             ],
             [
              0.6666666666666666,
              "#ed7953"
             ],
             [
              0.7777777777777778,
              "#fb9f3a"
             ],
             [
              0.8888888888888888,
              "#fdca26"
             ],
             [
              1,
              "#f0f921"
             ]
            ],
            "type": "histogram2d"
           }
          ],
          "histogram2dcontour": [
           {
            "colorbar": {
             "outlinewidth": 0,
             "ticks": ""
            },
            "colorscale": [
             [
              0,
              "#0d0887"
             ],
             [
              0.1111111111111111,
              "#46039f"
             ],
             [
              0.2222222222222222,
              "#7201a8"
             ],
             [
              0.3333333333333333,
              "#9c179e"
             ],
             [
              0.4444444444444444,
              "#bd3786"
             ],
             [
              0.5555555555555556,
              "#d8576b"
             ],
             [
              0.6666666666666666,
              "#ed7953"
             ],
             [
              0.7777777777777778,
              "#fb9f3a"
             ],
             [
              0.8888888888888888,
              "#fdca26"
             ],
             [
              1,
              "#f0f921"
             ]
            ],
            "type": "histogram2dcontour"
           }
          ],
          "mesh3d": [
           {
            "colorbar": {
             "outlinewidth": 0,
             "ticks": ""
            },
            "type": "mesh3d"
           }
          ],
          "parcoords": [
           {
            "line": {
             "colorbar": {
              "outlinewidth": 0,
              "ticks": ""
             }
            },
            "type": "parcoords"
           }
          ],
          "pie": [
           {
            "automargin": true,
            "type": "pie"
           }
          ],
          "scatter": [
           {
            "marker": {
             "colorbar": {
              "outlinewidth": 0,
              "ticks": ""
             }
            },
            "type": "scatter"
           }
          ],
          "scatter3d": [
           {
            "line": {
             "colorbar": {
              "outlinewidth": 0,
              "ticks": ""
             }
            },
            "marker": {
             "colorbar": {
              "outlinewidth": 0,
              "ticks": ""
             }
            },
            "type": "scatter3d"
           }
          ],
          "scattercarpet": [
           {
            "marker": {
             "colorbar": {
              "outlinewidth": 0,
              "ticks": ""
             }
            },
            "type": "scattercarpet"
           }
          ],
          "scattergeo": [
           {
            "marker": {
             "colorbar": {
              "outlinewidth": 0,
              "ticks": ""
             }
            },
            "type": "scattergeo"
           }
          ],
          "scattergl": [
           {
            "marker": {
             "colorbar": {
              "outlinewidth": 0,
              "ticks": ""
             }
            },
            "type": "scattergl"
           }
          ],
          "scattermapbox": [
           {
            "marker": {
             "colorbar": {
              "outlinewidth": 0,
              "ticks": ""
             }
            },
            "type": "scattermapbox"
           }
          ],
          "scatterpolar": [
           {
            "marker": {
             "colorbar": {
              "outlinewidth": 0,
              "ticks": ""
             }
            },
            "type": "scatterpolar"
           }
          ],
          "scatterpolargl": [
           {
            "marker": {
             "colorbar": {
              "outlinewidth": 0,
              "ticks": ""
             }
            },
            "type": "scatterpolargl"
           }
          ],
          "scatterternary": [
           {
            "marker": {
             "colorbar": {
              "outlinewidth": 0,
              "ticks": ""
             }
            },
            "type": "scatterternary"
           }
          ],
          "surface": [
           {
            "colorbar": {
             "outlinewidth": 0,
             "ticks": ""
            },
            "colorscale": [
             [
              0,
              "#0d0887"
             ],
             [
              0.1111111111111111,
              "#46039f"
             ],
             [
              0.2222222222222222,
              "#7201a8"
             ],
             [
              0.3333333333333333,
              "#9c179e"
             ],
             [
              0.4444444444444444,
              "#bd3786"
             ],
             [
              0.5555555555555556,
              "#d8576b"
             ],
             [
              0.6666666666666666,
              "#ed7953"
             ],
             [
              0.7777777777777778,
              "#fb9f3a"
             ],
             [
              0.8888888888888888,
              "#fdca26"
             ],
             [
              1,
              "#f0f921"
             ]
            ],
            "type": "surface"
           }
          ],
          "table": [
           {
            "cells": {
             "fill": {
              "color": "#EBF0F8"
             },
             "line": {
              "color": "white"
             }
            },
            "header": {
             "fill": {
              "color": "#C8D4E3"
             },
             "line": {
              "color": "white"
             }
            },
            "type": "table"
           }
          ]
         },
         "layout": {
          "annotationdefaults": {
           "arrowcolor": "#2a3f5f",
           "arrowhead": 0,
           "arrowwidth": 1
          },
          "coloraxis": {
           "colorbar": {
            "outlinewidth": 0,
            "ticks": ""
           }
          },
          "colorscale": {
           "diverging": [
            [
             0,
             "#8e0152"
            ],
            [
             0.1,
             "#c51b7d"
            ],
            [
             0.2,
             "#de77ae"
            ],
            [
             0.3,
             "#f1b6da"
            ],
            [
             0.4,
             "#fde0ef"
            ],
            [
             0.5,
             "#f7f7f7"
            ],
            [
             0.6,
             "#e6f5d0"
            ],
            [
             0.7,
             "#b8e186"
            ],
            [
             0.8,
             "#7fbc41"
            ],
            [
             0.9,
             "#4d9221"
            ],
            [
             1,
             "#276419"
            ]
           ],
           "sequential": [
            [
             0,
             "#0d0887"
            ],
            [
             0.1111111111111111,
             "#46039f"
            ],
            [
             0.2222222222222222,
             "#7201a8"
            ],
            [
             0.3333333333333333,
             "#9c179e"
            ],
            [
             0.4444444444444444,
             "#bd3786"
            ],
            [
             0.5555555555555556,
             "#d8576b"
            ],
            [
             0.6666666666666666,
             "#ed7953"
            ],
            [
             0.7777777777777778,
             "#fb9f3a"
            ],
            [
             0.8888888888888888,
             "#fdca26"
            ],
            [
             1,
             "#f0f921"
            ]
           ],
           "sequentialminus": [
            [
             0,
             "#0d0887"
            ],
            [
             0.1111111111111111,
             "#46039f"
            ],
            [
             0.2222222222222222,
             "#7201a8"
            ],
            [
             0.3333333333333333,
             "#9c179e"
            ],
            [
             0.4444444444444444,
             "#bd3786"
            ],
            [
             0.5555555555555556,
             "#d8576b"
            ],
            [
             0.6666666666666666,
             "#ed7953"
            ],
            [
             0.7777777777777778,
             "#fb9f3a"
            ],
            [
             0.8888888888888888,
             "#fdca26"
            ],
            [
             1,
             "#f0f921"
            ]
           ]
          },
          "colorway": [
           "#636efa",
           "#EF553B",
           "#00cc96",
           "#ab63fa",
           "#FFA15A",
           "#19d3f3",
           "#FF6692",
           "#B6E880",
           "#FF97FF",
           "#FECB52"
          ],
          "font": {
           "color": "#2a3f5f"
          },
          "geo": {
           "bgcolor": "white",
           "lakecolor": "white",
           "landcolor": "#E5ECF6",
           "showlakes": true,
           "showland": true,
           "subunitcolor": "white"
          },
          "hoverlabel": {
           "align": "left"
          },
          "hovermode": "closest",
          "mapbox": {
           "style": "light"
          },
          "paper_bgcolor": "white",
          "plot_bgcolor": "#E5ECF6",
          "polar": {
           "angularaxis": {
            "gridcolor": "white",
            "linecolor": "white",
            "ticks": ""
           },
           "bgcolor": "#E5ECF6",
           "radialaxis": {
            "gridcolor": "white",
            "linecolor": "white",
            "ticks": ""
           }
          },
          "scene": {
           "xaxis": {
            "backgroundcolor": "#E5ECF6",
            "gridcolor": "white",
            "gridwidth": 2,
            "linecolor": "white",
            "showbackground": true,
            "ticks": "",
            "zerolinecolor": "white"
           },
           "yaxis": {
            "backgroundcolor": "#E5ECF6",
            "gridcolor": "white",
            "gridwidth": 2,
            "linecolor": "white",
            "showbackground": true,
            "ticks": "",
            "zerolinecolor": "white"
           },
           "zaxis": {
            "backgroundcolor": "#E5ECF6",
            "gridcolor": "white",
            "gridwidth": 2,
            "linecolor": "white",
            "showbackground": true,
            "ticks": "",
            "zerolinecolor": "white"
           }
          },
          "shapedefaults": {
           "line": {
            "color": "#2a3f5f"
           }
          },
          "ternary": {
           "aaxis": {
            "gridcolor": "white",
            "linecolor": "white",
            "ticks": ""
           },
           "baxis": {
            "gridcolor": "white",
            "linecolor": "white",
            "ticks": ""
           },
           "bgcolor": "#E5ECF6",
           "caxis": {
            "gridcolor": "white",
            "linecolor": "white",
            "ticks": ""
           }
          },
          "title": {
           "x": 0.05
          },
          "xaxis": {
           "automargin": true,
           "gridcolor": "white",
           "linecolor": "white",
           "ticks": "",
           "title": {
            "standoff": 15
           },
           "zerolinecolor": "white",
           "zerolinewidth": 2
          },
          "yaxis": {
           "automargin": true,
           "gridcolor": "white",
           "linecolor": "white",
           "ticks": "",
           "title": {
            "standoff": 15
           },
           "zerolinecolor": "white",
           "zerolinewidth": 2
          }
         }
        },
        "xaxis": {
         "anchor": "y",
         "domain": [
          0,
          1
         ],
         "title": {
          "text": "match_rate_perc"
         }
        },
        "yaxis": {
         "anchor": "x",
         "domain": [
          0,
          1
         ],
         "title": {
          "text": "count"
         }
        }
       }
      },
      "text/html": [
       "<div>\n",
       "        \n",
       "        \n",
       "            <div id=\"79fecd60-8c3f-4d5f-a4b3-bc3b186f5c2f\" class=\"plotly-graph-div\" style=\"height:525px; width:100%;\"></div>\n",
       "            <script type=\"text/javascript\">\n",
       "                require([\"plotly\"], function(Plotly) {\n",
       "                    window.PLOTLYENV=window.PLOTLYENV || {};\n",
       "                    \n",
       "                if (document.getElementById(\"79fecd60-8c3f-4d5f-a4b3-bc3b186f5c2f\")) {\n",
       "                    Plotly.newPlot(\n",
       "                        '79fecd60-8c3f-4d5f-a4b3-bc3b186f5c2f',\n",
       "                        [{\"alignmentgroup\": \"True\", \"bingroup\": \"x\", \"histnorm\": \"probability density\", \"hovertemplate\": \"match_rate_perc=%{x}<br>count=%{y}<extra></extra>\", \"legendgroup\": \"\", \"marker\": {\"color\": \"#636efa\"}, \"name\": \"\", \"offsetgroup\": \"\", \"orientation\": \"v\", \"showlegend\": false, \"type\": \"histogram\", \"x\": [45.83333333333333, 43.75, 31.25, 59.09090909090909, 40.909090909090914, 52.94117647058824, 37.5, 61.904761904761905, 36.36363636363637, 66.66666666666666, 39.130434782608695, 47.61904761904761, 25.0, 20.0, 45.0, 26.31578947368421, 47.368421052631575, 40.0, 69.56521739130434, 66.66666666666666, 39.130434782608695, 32.142857142857146, 33.33333333333333, 50.0, 57.14285714285714, 47.368421052631575, 21.052631578947366, 56.25, 50.0, 50.0, 47.61904761904761, 18.75, 40.0, 25.0, 33.33333333333333, 36.36363636363637, 36.36363636363637, 47.05882352941176, 38.88888888888889, 43.75, 27.27272727272727, 42.857142857142854, 50.0, 45.0, 33.33333333333333, 41.17647058823529, 50.0, 54.54545454545454, 44.44444444444444, 23.809523809523807, 66.66666666666666, 58.333333333333336, 45.0, 33.33333333333333, 17.647058823529413, 66.66666666666666, 43.75, 40.0, 50.0, 25.0, 58.82352941176471, 45.83333333333333, 35.294117647058826, 58.82352941176471, 31.818181818181817, 25.0, 23.52941176470588, 31.57894736842105, 28.57142857142857, 44.0, 40.0, 55.00000000000001, 47.368421052631575, 40.0, 43.75, 41.66666666666667, 40.0, 28.57142857142857, 41.17647058823529, 37.5, 46.666666666666664, 36.84210526315789, 51.724137931034484, 41.66666666666667, 32.0, 40.909090909090914, 35.294117647058826, 31.25, 71.42857142857143, 61.904761904761905, 52.63157894736842, 33.33333333333333, 52.38095238095239, 17.647058823529413, 33.33333333333333, 45.0, 35.0, 43.47826086956522, 42.857142857142854, 33.33333333333333, 57.89473684210527, 42.10526315789473, 27.77777777777778, 27.77777777777778, 30.434782608695656, 50.0, 38.46153846153847, 38.095238095238095, 30.0, 41.66666666666667, 35.294117647058826, 57.14285714285714, 40.0, 42.857142857142854, 22.22222222222222, 38.88888888888889, 38.095238095238095, 45.0, 35.0, 47.82608695652174, 31.57894736842105, 26.666666666666668, 39.130434782608695, 57.14285714285714, 45.0, 17.647058823529413, 50.0, 34.78260869565217, 41.17647058823529, 56.52173913043478, 30.0, 40.0, 36.36363636363637, 40.0, 40.0, 26.31578947368421, 47.05882352941176, 43.75, 34.78260869565217, 40.909090909090914, 36.36363636363637, 33.33333333333333, 23.809523809523807, 39.130434782608695, 30.0, 31.818181818181817, 52.63157894736842, 36.84210526315789, 40.0, 50.0, 26.31578947368421, 33.33333333333333, 31.25, 41.17647058823529, 45.45454545454545, 33.33333333333333, 58.82352941176471, 57.89473684210527, 42.857142857142854, 29.166666666666668, 44.44444444444444, 52.63157894736842, 33.33333333333333, 52.38095238095239, 21.052631578947366, 32.0, 50.0, 28.57142857142857, 50.0, 41.66666666666667, 47.368421052631575, 56.25, 14.285714285714285, 36.84210526315789, 29.411764705882355, 38.095238095238095, 41.17647058823529, 29.411764705882355, 22.22222222222222, 45.0, 47.61904761904761, 35.0, 47.368421052631575, 25.0, 23.076923076923077, 22.727272727272727, 42.857142857142854, 28.57142857142857, 50.0, 50.0, 31.25, 42.10526315789473, 55.00000000000001, 35.0, 52.38095238095239, 38.88888888888889, 43.75, 31.818181818181817, 40.909090909090914, 45.0, 56.25, 33.33333333333333, 50.0, 30.434782608695656, 66.66666666666666, 25.0, 45.0, 33.33333333333333, 50.0, 37.5, 31.25, 45.0, 54.166666666666664, 53.84615384615385, 36.84210526315789, 42.857142857142854, 42.857142857142854, 42.10526315789473, 45.0, 47.82608695652174, 44.44444444444444, 42.10526315789473, 30.0, 52.38095238095239, 47.61904761904761, 27.27272727272727, 53.84615384615385, 47.61904761904761, 42.857142857142854, 38.095238095238095, 33.33333333333333, 52.38095238095239, 33.33333333333333, 35.0, 31.818181818181817, 45.83333333333333, 50.0, 47.05882352941176, 58.333333333333336, 42.10526315789473, 25.0, 57.14285714285714, 38.095238095238095, 47.368421052631575, 40.0, 35.0, 42.857142857142854, 45.83333333333333, 31.25, 31.818181818181817, 33.33333333333333, 43.47826086956522, 35.294117647058826, 47.61904761904761, 25.0, 42.857142857142854, 26.08695652173913, 54.54545454545454, 37.5, 45.45454545454545, 21.052631578947366, 31.818181818181817, 36.84210526315789, 0.0, 13.636363636363635, 45.45454545454545, 36.84210526315789, 58.82352941176471, 47.82608695652174, 36.0, 47.61904761904761, 37.5, 40.0, 31.818181818181817, 27.77777777777778, 17.647058823529413, 41.17647058823529, 39.130434782608695, 52.0, 30.0, 33.33333333333333, 50.0, 56.25, 41.66666666666667, 50.0, 38.095238095238095, 40.0, 58.82352941176471, 33.33333333333333, 47.82608695652174, 26.31578947368421, 40.0, 22.22222222222222, 55.55555555555556, 41.17647058823529, 38.88888888888889, 30.0, 33.33333333333333, 50.0, 20.833333333333336, 31.818181818181817, 47.05882352941176, 46.15384615384615, 50.0, 22.727272727272727, 40.0, 47.368421052631575, 47.61904761904761, 40.0, 43.75, 55.55555555555556, 53.84615384615385, 47.61904761904761, 30.0, 16.666666666666664, 40.909090909090914, 25.0, 52.17391304347826, 37.5, 42.857142857142854, 25.0, 41.66666666666667, 47.82608695652174, 42.857142857142854, 21.052631578947366, 72.22222222222221, 40.909090909090914, 36.84210526315789, 18.75, 45.45454545454545, 35.294117647058826, 57.89473684210527, 47.368421052631575, 20.0, 38.095238095238095, 34.78260869565217, 15.0, 57.89473684210527, 62.5, 40.0, 60.86956521739131, 31.818181818181817, 36.36363636363637, 33.33333333333333, 22.22222222222222, 47.368421052631575, 40.909090909090914, 45.0, 17.391304347826086, 21.052631578947366, 35.0, 57.89473684210527, 39.130434782608695, 38.095238095238095, 18.181818181818183, 36.84210526315789, 30.0, 50.0, 45.45454545454545, 45.0, 26.666666666666668, 44.44444444444444, 38.88888888888889, 42.10526315789473, 36.36363636363637, 41.66666666666667, 47.82608695652174, 57.89473684210527, 56.25, 45.0, 40.0, 31.25, 30.0, 41.66666666666667, 42.857142857142854, 22.22222222222222, 25.0, 38.88888888888889, 50.0, 35.0, 31.57894736842105, 40.909090909090914, 40.909090909090914, 50.0, 42.857142857142854, 18.181818181818183, 28.57142857142857, 40.0, 35.0, 21.052631578947366, 54.166666666666664, 27.77777777777778, 31.57894736842105, 37.5, 40.0, 71.42857142857143, 42.10526315789473, 38.88888888888889, 50.0, 43.75, 40.0, 52.63157894736842, 56.25, 23.809523809523807, 34.61538461538461, 38.095238095238095, 50.0, 53.57142857142857, 25.0, 47.61904761904761, 47.82608695652174, 34.78260869565217, 33.33333333333333, 25.0, 68.75, 47.61904761904761, 40.0, 45.45454545454545, 31.57894736842105, 45.0, 52.94117647058824, 40.0, 35.294117647058826, 66.66666666666666, 41.17647058823529, 38.095238095238095, 44.44444444444444, 39.130434782608695, 50.0, 33.33333333333333, 42.857142857142854, 34.78260869565217, 47.61904761904761, 53.84615384615385, 16.666666666666664, 53.333333333333336, 41.66666666666667, 22.727272727272727, 57.14285714285714, 38.88888888888889, 52.63157894736842, 20.0, 52.63157894736842, 21.052631578947366, 50.0, 11.11111111111111, 47.368421052631575, 47.368421052631575, 36.36363636363637, 27.77777777777778, 35.0, 41.17647058823529, 26.31578947368421, 36.84210526315789, 41.17647058823529, 20.0, 70.0, 44.44444444444444, 31.57894736842105, 27.77777777777778, 42.10526315789473, 61.904761904761905, 27.77777777777778, 34.78260869565217, 20.833333333333336, 47.61904761904761, 21.73913043478261, 45.0, 40.0, 40.909090909090914, 23.52941176470588, 50.0, 37.5, 50.0, 50.0, 42.10526315789473, 31.818181818181817, 47.368421052631575, 30.434782608695656, 55.55555555555556, 35.714285714285715, 47.61904761904761, 63.1578947368421, 31.57894736842105, 47.368421052631575, 50.0, 45.45454545454545, 47.05882352941176, 33.33333333333333, 27.27272727272727, 36.36363636363637, 35.0, 26.31578947368421, 45.0, 34.78260869565217, 38.095238095238095, 33.33333333333333, 55.55555555555556, 52.17391304347826], \"xaxis\": \"x\", \"yaxis\": \"y\"}],\n",
       "                        {\"barmode\": \"relative\", \"legend\": {\"tracegroupgap\": 0}, \"margin\": {\"t\": 60}, \"template\": {\"data\": {\"bar\": [{\"error_x\": {\"color\": \"#2a3f5f\"}, \"error_y\": {\"color\": \"#2a3f5f\"}, \"marker\": {\"line\": {\"color\": \"#E5ECF6\", \"width\": 0.5}}, \"type\": \"bar\"}], \"barpolar\": [{\"marker\": {\"line\": {\"color\": \"#E5ECF6\", \"width\": 0.5}}, \"type\": \"barpolar\"}], \"carpet\": [{\"aaxis\": {\"endlinecolor\": \"#2a3f5f\", \"gridcolor\": \"white\", \"linecolor\": \"white\", \"minorgridcolor\": \"white\", \"startlinecolor\": \"#2a3f5f\"}, \"baxis\": {\"endlinecolor\": \"#2a3f5f\", \"gridcolor\": \"white\", \"linecolor\": \"white\", \"minorgridcolor\": \"white\", \"startlinecolor\": \"#2a3f5f\"}, \"type\": \"carpet\"}], \"choropleth\": [{\"colorbar\": {\"outlinewidth\": 0, \"ticks\": \"\"}, \"type\": \"choropleth\"}], \"contour\": [{\"colorbar\": {\"outlinewidth\": 0, \"ticks\": \"\"}, \"colorscale\": [[0.0, \"#0d0887\"], [0.1111111111111111, \"#46039f\"], [0.2222222222222222, \"#7201a8\"], [0.3333333333333333, \"#9c179e\"], [0.4444444444444444, \"#bd3786\"], [0.5555555555555556, \"#d8576b\"], [0.6666666666666666, \"#ed7953\"], [0.7777777777777778, \"#fb9f3a\"], [0.8888888888888888, \"#fdca26\"], [1.0, \"#f0f921\"]], \"type\": \"contour\"}], \"contourcarpet\": [{\"colorbar\": {\"outlinewidth\": 0, \"ticks\": \"\"}, \"type\": \"contourcarpet\"}], \"heatmap\": [{\"colorbar\": {\"outlinewidth\": 0, \"ticks\": \"\"}, \"colorscale\": [[0.0, \"#0d0887\"], [0.1111111111111111, \"#46039f\"], [0.2222222222222222, \"#7201a8\"], [0.3333333333333333, \"#9c179e\"], [0.4444444444444444, \"#bd3786\"], [0.5555555555555556, \"#d8576b\"], [0.6666666666666666, \"#ed7953\"], [0.7777777777777778, \"#fb9f3a\"], [0.8888888888888888, \"#fdca26\"], [1.0, \"#f0f921\"]], \"type\": \"heatmap\"}], \"heatmapgl\": [{\"colorbar\": {\"outlinewidth\": 0, \"ticks\": \"\"}, \"colorscale\": [[0.0, \"#0d0887\"], [0.1111111111111111, \"#46039f\"], [0.2222222222222222, \"#7201a8\"], [0.3333333333333333, \"#9c179e\"], [0.4444444444444444, \"#bd3786\"], [0.5555555555555556, \"#d8576b\"], [0.6666666666666666, \"#ed7953\"], [0.7777777777777778, \"#fb9f3a\"], [0.8888888888888888, \"#fdca26\"], [1.0, \"#f0f921\"]], \"type\": \"heatmapgl\"}], \"histogram\": [{\"marker\": {\"colorbar\": {\"outlinewidth\": 0, \"ticks\": \"\"}}, \"type\": \"histogram\"}], \"histogram2d\": [{\"colorbar\": {\"outlinewidth\": 0, \"ticks\": \"\"}, \"colorscale\": [[0.0, \"#0d0887\"], [0.1111111111111111, \"#46039f\"], [0.2222222222222222, \"#7201a8\"], [0.3333333333333333, \"#9c179e\"], [0.4444444444444444, \"#bd3786\"], [0.5555555555555556, \"#d8576b\"], [0.6666666666666666, \"#ed7953\"], [0.7777777777777778, \"#fb9f3a\"], [0.8888888888888888, \"#fdca26\"], [1.0, \"#f0f921\"]], \"type\": \"histogram2d\"}], \"histogram2dcontour\": [{\"colorbar\": {\"outlinewidth\": 0, \"ticks\": \"\"}, \"colorscale\": [[0.0, \"#0d0887\"], [0.1111111111111111, \"#46039f\"], [0.2222222222222222, \"#7201a8\"], [0.3333333333333333, \"#9c179e\"], [0.4444444444444444, \"#bd3786\"], [0.5555555555555556, \"#d8576b\"], [0.6666666666666666, \"#ed7953\"], [0.7777777777777778, \"#fb9f3a\"], [0.8888888888888888, \"#fdca26\"], [1.0, \"#f0f921\"]], \"type\": \"histogram2dcontour\"}], \"mesh3d\": [{\"colorbar\": {\"outlinewidth\": 0, \"ticks\": \"\"}, \"type\": \"mesh3d\"}], \"parcoords\": [{\"line\": {\"colorbar\": {\"outlinewidth\": 0, \"ticks\": \"\"}}, \"type\": \"parcoords\"}], \"pie\": [{\"automargin\": true, \"type\": \"pie\"}], \"scatter\": [{\"marker\": {\"colorbar\": {\"outlinewidth\": 0, \"ticks\": \"\"}}, \"type\": \"scatter\"}], \"scatter3d\": [{\"line\": {\"colorbar\": {\"outlinewidth\": 0, \"ticks\": \"\"}}, \"marker\": {\"colorbar\": {\"outlinewidth\": 0, \"ticks\": \"\"}}, \"type\": \"scatter3d\"}], \"scattercarpet\": [{\"marker\": {\"colorbar\": {\"outlinewidth\": 0, \"ticks\": \"\"}}, \"type\": \"scattercarpet\"}], \"scattergeo\": [{\"marker\": {\"colorbar\": {\"outlinewidth\": 0, \"ticks\": \"\"}}, \"type\": \"scattergeo\"}], \"scattergl\": [{\"marker\": {\"colorbar\": {\"outlinewidth\": 0, \"ticks\": \"\"}}, \"type\": \"scattergl\"}], \"scattermapbox\": [{\"marker\": {\"colorbar\": {\"outlinewidth\": 0, \"ticks\": \"\"}}, \"type\": \"scattermapbox\"}], \"scatterpolar\": [{\"marker\": {\"colorbar\": {\"outlinewidth\": 0, \"ticks\": \"\"}}, \"type\": \"scatterpolar\"}], \"scatterpolargl\": [{\"marker\": {\"colorbar\": {\"outlinewidth\": 0, \"ticks\": \"\"}}, \"type\": \"scatterpolargl\"}], \"scatterternary\": [{\"marker\": {\"colorbar\": {\"outlinewidth\": 0, \"ticks\": \"\"}}, \"type\": \"scatterternary\"}], \"surface\": [{\"colorbar\": {\"outlinewidth\": 0, \"ticks\": \"\"}, \"colorscale\": [[0.0, \"#0d0887\"], [0.1111111111111111, \"#46039f\"], [0.2222222222222222, \"#7201a8\"], [0.3333333333333333, \"#9c179e\"], [0.4444444444444444, \"#bd3786\"], [0.5555555555555556, \"#d8576b\"], [0.6666666666666666, \"#ed7953\"], [0.7777777777777778, \"#fb9f3a\"], [0.8888888888888888, \"#fdca26\"], [1.0, \"#f0f921\"]], \"type\": \"surface\"}], \"table\": [{\"cells\": {\"fill\": {\"color\": \"#EBF0F8\"}, \"line\": {\"color\": \"white\"}}, \"header\": {\"fill\": {\"color\": \"#C8D4E3\"}, \"line\": {\"color\": \"white\"}}, \"type\": \"table\"}]}, \"layout\": {\"annotationdefaults\": {\"arrowcolor\": \"#2a3f5f\", \"arrowhead\": 0, \"arrowwidth\": 1}, \"coloraxis\": {\"colorbar\": {\"outlinewidth\": 0, \"ticks\": \"\"}}, \"colorscale\": {\"diverging\": [[0, \"#8e0152\"], [0.1, \"#c51b7d\"], [0.2, \"#de77ae\"], [0.3, \"#f1b6da\"], [0.4, \"#fde0ef\"], [0.5, \"#f7f7f7\"], [0.6, \"#e6f5d0\"], [0.7, \"#b8e186\"], [0.8, \"#7fbc41\"], [0.9, \"#4d9221\"], [1, \"#276419\"]], \"sequential\": [[0.0, \"#0d0887\"], [0.1111111111111111, \"#46039f\"], [0.2222222222222222, \"#7201a8\"], [0.3333333333333333, \"#9c179e\"], [0.4444444444444444, \"#bd3786\"], [0.5555555555555556, \"#d8576b\"], [0.6666666666666666, \"#ed7953\"], [0.7777777777777778, \"#fb9f3a\"], [0.8888888888888888, \"#fdca26\"], [1.0, \"#f0f921\"]], \"sequentialminus\": [[0.0, \"#0d0887\"], [0.1111111111111111, \"#46039f\"], [0.2222222222222222, \"#7201a8\"], [0.3333333333333333, \"#9c179e\"], [0.4444444444444444, \"#bd3786\"], [0.5555555555555556, \"#d8576b\"], [0.6666666666666666, \"#ed7953\"], [0.7777777777777778, \"#fb9f3a\"], [0.8888888888888888, \"#fdca26\"], [1.0, \"#f0f921\"]]}, \"colorway\": [\"#636efa\", \"#EF553B\", \"#00cc96\", \"#ab63fa\", \"#FFA15A\", \"#19d3f3\", \"#FF6692\", \"#B6E880\", \"#FF97FF\", \"#FECB52\"], \"font\": {\"color\": \"#2a3f5f\"}, \"geo\": {\"bgcolor\": \"white\", \"lakecolor\": \"white\", \"landcolor\": \"#E5ECF6\", \"showlakes\": true, \"showland\": true, \"subunitcolor\": \"white\"}, \"hoverlabel\": {\"align\": \"left\"}, \"hovermode\": \"closest\", \"mapbox\": {\"style\": \"light\"}, \"paper_bgcolor\": \"white\", \"plot_bgcolor\": \"#E5ECF6\", \"polar\": {\"angularaxis\": {\"gridcolor\": \"white\", \"linecolor\": \"white\", \"ticks\": \"\"}, \"bgcolor\": \"#E5ECF6\", \"radialaxis\": {\"gridcolor\": \"white\", \"linecolor\": \"white\", \"ticks\": \"\"}}, \"scene\": {\"xaxis\": {\"backgroundcolor\": \"#E5ECF6\", \"gridcolor\": \"white\", \"gridwidth\": 2, \"linecolor\": \"white\", \"showbackground\": true, \"ticks\": \"\", \"zerolinecolor\": \"white\"}, \"yaxis\": {\"backgroundcolor\": \"#E5ECF6\", \"gridcolor\": \"white\", \"gridwidth\": 2, \"linecolor\": \"white\", \"showbackground\": true, \"ticks\": \"\", \"zerolinecolor\": \"white\"}, \"zaxis\": {\"backgroundcolor\": \"#E5ECF6\", \"gridcolor\": \"white\", \"gridwidth\": 2, \"linecolor\": \"white\", \"showbackground\": true, \"ticks\": \"\", \"zerolinecolor\": \"white\"}}, \"shapedefaults\": {\"line\": {\"color\": \"#2a3f5f\"}}, \"ternary\": {\"aaxis\": {\"gridcolor\": \"white\", \"linecolor\": \"white\", \"ticks\": \"\"}, \"baxis\": {\"gridcolor\": \"white\", \"linecolor\": \"white\", \"ticks\": \"\"}, \"bgcolor\": \"#E5ECF6\", \"caxis\": {\"gridcolor\": \"white\", \"linecolor\": \"white\", \"ticks\": \"\"}}, \"title\": {\"x\": 0.05}, \"xaxis\": {\"automargin\": true, \"gridcolor\": \"white\", \"linecolor\": \"white\", \"ticks\": \"\", \"title\": {\"standoff\": 15}, \"zerolinecolor\": \"white\", \"zerolinewidth\": 2}, \"yaxis\": {\"automargin\": true, \"gridcolor\": \"white\", \"linecolor\": \"white\", \"ticks\": \"\", \"title\": {\"standoff\": 15}, \"zerolinecolor\": \"white\", \"zerolinewidth\": 2}}}, \"xaxis\": {\"anchor\": \"y\", \"domain\": [0.0, 1.0], \"title\": {\"text\": \"match_rate_perc\"}}, \"yaxis\": {\"anchor\": \"x\", \"domain\": [0.0, 1.0], \"title\": {\"text\": \"count\"}}},\n",
       "                        {\"responsive\": true}\n",
       "                    ).then(function(){\n",
       "                            \n",
       "var gd = document.getElementById('79fecd60-8c3f-4d5f-a4b3-bc3b186f5c2f');\n",
       "var x = new MutationObserver(function (mutations, observer) {{\n",
       "        var display = window.getComputedStyle(gd).display;\n",
       "        if (!display || display === 'none') {{\n",
       "            console.log([gd, 'removed!']);\n",
       "            Plotly.purge(gd);\n",
       "            observer.disconnect();\n",
       "        }}\n",
       "}});\n",
       "\n",
       "// Listen for the removal of the full notebook cells\n",
       "var notebookContainer = gd.closest('#notebook-container');\n",
       "if (notebookContainer) {{\n",
       "    x.observe(notebookContainer, {childList: true});\n",
       "}}\n",
       "\n",
       "// Listen for the clearing of the current output cell\n",
       "var outputEl = gd.closest('.output');\n",
       "if (outputEl) {{\n",
       "    x.observe(outputEl, {childList: true});\n",
       "}}\n",
       "\n",
       "                        })\n",
       "                };\n",
       "                });\n",
       "            </script>\n",
       "        </div>"
      ]
     },
     "metadata": {},
     "output_type": "display_data"
    }
   ],
   "source": [
    "fig = px.histogram(test_df, x='match_rate_perc', histnorm='probability density')\n",
    "fig.show()"
   ]
  },
  {
   "cell_type": "markdown",
   "metadata": {},
   "source": [
    "Применим методику бутстрапа."
   ]
  },
  {
   "cell_type": "code",
   "execution_count": 312,
   "metadata": {},
   "outputs": [
    {
     "data": {
      "text/html": [
       "<div>\n",
       "<style scoped>\n",
       "    .dataframe tbody tr th:only-of-type {\n",
       "        vertical-align: middle;\n",
       "    }\n",
       "\n",
       "    .dataframe tbody tr th {\n",
       "        vertical-align: top;\n",
       "    }\n",
       "\n",
       "    .dataframe thead th {\n",
       "        text-align: right;\n",
       "    }\n",
       "</style>\n",
       "<table border=\"1\" class=\"dataframe\">\n",
       "  <thead>\n",
       "    <tr style=\"text-align: right;\">\n",
       "      <th></th>\n",
       "      <th>user_id_1</th>\n",
       "      <th>match_sum</th>\n",
       "      <th>count_match</th>\n",
       "      <th>match_rate_perc</th>\n",
       "    </tr>\n",
       "  </thead>\n",
       "  <tbody>\n",
       "    <tr>\n",
       "      <th>227</th>\n",
       "      <td>448</td>\n",
       "      <td>1</td>\n",
       "      <td>5</td>\n",
       "      <td>20.000000</td>\n",
       "    </tr>\n",
       "    <tr>\n",
       "      <th>7</th>\n",
       "      <td>20</td>\n",
       "      <td>0</td>\n",
       "      <td>7</td>\n",
       "      <td>0.000000</td>\n",
       "    </tr>\n",
       "    <tr>\n",
       "      <th>192</th>\n",
       "      <td>384</td>\n",
       "      <td>3</td>\n",
       "      <td>15</td>\n",
       "      <td>20.000000</td>\n",
       "    </tr>\n",
       "    <tr>\n",
       "      <th>68</th>\n",
       "      <td>128</td>\n",
       "      <td>6</td>\n",
       "      <td>12</td>\n",
       "      <td>50.000000</td>\n",
       "    </tr>\n",
       "    <tr>\n",
       "      <th>418</th>\n",
       "      <td>826</td>\n",
       "      <td>1</td>\n",
       "      <td>8</td>\n",
       "      <td>12.500000</td>\n",
       "    </tr>\n",
       "    <tr>\n",
       "      <th>...</th>\n",
       "      <td>...</td>\n",
       "      <td>...</td>\n",
       "      <td>...</td>\n",
       "      <td>...</td>\n",
       "    </tr>\n",
       "    <tr>\n",
       "      <th>195</th>\n",
       "      <td>394</td>\n",
       "      <td>0</td>\n",
       "      <td>9</td>\n",
       "      <td>0.000000</td>\n",
       "    </tr>\n",
       "    <tr>\n",
       "      <th>372</th>\n",
       "      <td>728</td>\n",
       "      <td>1</td>\n",
       "      <td>4</td>\n",
       "      <td>25.000000</td>\n",
       "    </tr>\n",
       "    <tr>\n",
       "      <th>423</th>\n",
       "      <td>837</td>\n",
       "      <td>2</td>\n",
       "      <td>5</td>\n",
       "      <td>40.000000</td>\n",
       "    </tr>\n",
       "    <tr>\n",
       "      <th>118</th>\n",
       "      <td>233</td>\n",
       "      <td>3</td>\n",
       "      <td>13</td>\n",
       "      <td>23.076923</td>\n",
       "    </tr>\n",
       "    <tr>\n",
       "      <th>294</th>\n",
       "      <td>578</td>\n",
       "      <td>4</td>\n",
       "      <td>8</td>\n",
       "      <td>50.000000</td>\n",
       "    </tr>\n",
       "  </tbody>\n",
       "</table>\n",
       "<p>501 rows × 4 columns</p>\n",
       "</div>"
      ],
      "text/plain": [
       "     user_id_1  match_sum  count_match  match_rate_perc\n",
       "227        448          1            5        20.000000\n",
       "7           20          0            7         0.000000\n",
       "192        384          3           15        20.000000\n",
       "68         128          6           12        50.000000\n",
       "418        826          1            8        12.500000\n",
       "..         ...        ...          ...              ...\n",
       "195        394          0            9         0.000000\n",
       "372        728          1            4        25.000000\n",
       "423        837          2            5        40.000000\n",
       "118        233          3           13        23.076923\n",
       "294        578          4            8        50.000000\n",
       "\n",
       "[501 rows x 4 columns]"
      ]
     },
     "execution_count": 312,
     "metadata": {},
     "output_type": "execute_result"
    }
   ],
   "source": [
    "#Для контрольной группы\n",
    "control_df.sample(frac=1, replace=True)"
   ]
  },
  {
   "cell_type": "code",
   "execution_count": 266,
   "metadata": {},
   "outputs": [],
   "source": [
    "medians = []\n",
    "\n",
    "#повторяем процесс 10000 раз\n",
    "for i in range(10000):\n",
    "    sample_data = control_df.sample(frac=1, replace=True)\n",
    "\n",
    "    sample_median = sample_data.match_rate_perc.median()\n",
    "\n",
    "    medians.append(sample_median)"
   ]
  },
  {
   "cell_type": "code",
   "execution_count": 267,
   "metadata": {},
   "outputs": [
    {
     "data": {
      "text/plain": [
       "[16.666666666666664,\n",
       " 20.0,\n",
       " 18.181818181818183,\n",
       " 17.647058823529413,\n",
       " 18.181818181818183,\n",
       " 18.75,\n",
       " 18.75,\n",
       " 20.0,\n",
       " 16.666666666666664,\n",
       " 16.666666666666664,\n",
       " 18.181818181818183,\n",
       " 18.75,\n",
       " 18.181818181818183,\n",
       " 17.647058823529413,\n",
       " 18.181818181818183,\n",
       " 20.0,\n",
       " 16.666666666666664,\n",
       " 18.181818181818183,\n",
       " 18.181818181818183,\n",
       " 18.181818181818183,\n",
       " 18.181818181818183,\n",
       " 16.666666666666664,\n",
       " 18.181818181818183,\n",
       " 16.666666666666664,\n",
       " 16.666666666666664,\n",
       " 18.75,\n",
       " 18.181818181818183,\n",
       " 18.181818181818183,\n",
       " 20.0,\n",
       " 20.0,\n",
       " 18.181818181818183,\n",
       " 18.75,\n",
       " 20.0,\n",
       " 18.181818181818183,\n",
       " 18.181818181818183,\n",
       " 18.181818181818183,\n",
       " 18.181818181818183,\n",
       " 16.666666666666664,\n",
       " 20.0,\n",
       " 18.181818181818183,\n",
       " 18.181818181818183,\n",
       " 18.181818181818183,\n",
       " 18.181818181818183,\n",
       " 20.0,\n",
       " 18.181818181818183,\n",
       " 20.0,\n",
       " 18.181818181818183,\n",
       " 18.181818181818183,\n",
       " 20.0,\n",
       " 16.666666666666664,\n",
       " 18.181818181818183,\n",
       " 20.0,\n",
       " 20.0,\n",
       " 18.181818181818183,\n",
       " 17.647058823529413,\n",
       " 20.0,\n",
       " 18.181818181818183,\n",
       " 20.0,\n",
       " 20.0,\n",
       " 16.666666666666664,\n",
       " 17.647058823529413,\n",
       " 18.181818181818183,\n",
       " 20.0,\n",
       " 16.666666666666664,\n",
       " 20.0,\n",
       " 17.647058823529413,\n",
       " 16.666666666666664,\n",
       " 16.666666666666664,\n",
       " 16.666666666666664,\n",
       " 18.181818181818183,\n",
       " 16.666666666666664,\n",
       " 18.181818181818183,\n",
       " 20.0,\n",
       " 20.0,\n",
       " 18.181818181818183,\n",
       " 18.181818181818183,\n",
       " 17.647058823529413,\n",
       " 18.181818181818183,\n",
       " 18.181818181818183,\n",
       " 18.181818181818183,\n",
       " 16.666666666666664,\n",
       " 20.0,\n",
       " 18.75,\n",
       " 18.75,\n",
       " 17.647058823529413,\n",
       " 16.666666666666664,\n",
       " 18.181818181818183,\n",
       " 18.181818181818183,\n",
       " 18.181818181818183,\n",
       " 18.75,\n",
       " 18.181818181818183,\n",
       " 20.0,\n",
       " 20.0,\n",
       " 16.666666666666664,\n",
       " 18.181818181818183,\n",
       " 18.181818181818183,\n",
       " 18.181818181818183,\n",
       " 20.0,\n",
       " 18.181818181818183,\n",
       " 18.181818181818183,\n",
       " 20.0,\n",
       " 18.75,\n",
       " 16.666666666666664,\n",
       " 20.0,\n",
       " 18.181818181818183,\n",
       " 17.647058823529413,\n",
       " 20.0,\n",
       " 16.666666666666664,\n",
       " 18.181818181818183,\n",
       " 18.181818181818183,\n",
       " 18.181818181818183,\n",
       " 16.666666666666664,\n",
       " 18.181818181818183,\n",
       " 18.181818181818183,\n",
       " 16.666666666666664,\n",
       " 20.0,\n",
       " 20.0,\n",
       " 20.0,\n",
       " 18.75,\n",
       " 16.666666666666664,\n",
       " 20.0,\n",
       " 17.647058823529413,\n",
       " 16.666666666666664,\n",
       " 17.647058823529413,\n",
       " 18.75,\n",
       " 16.666666666666664,\n",
       " 18.181818181818183,\n",
       " 18.181818181818183,\n",
       " 18.181818181818183,\n",
       " 18.181818181818183,\n",
       " 16.666666666666664,\n",
       " 18.181818181818183,\n",
       " 17.647058823529413,\n",
       " 20.0,\n",
       " 16.666666666666664,\n",
       " 16.666666666666664,\n",
       " 18.75,\n",
       " 16.666666666666664,\n",
       " 16.666666666666664,\n",
       " 18.181818181818183,\n",
       " 18.181818181818183,\n",
       " 17.647058823529413,\n",
       " 18.75,\n",
       " 20.0,\n",
       " 18.181818181818183,\n",
       " 20.0,\n",
       " 18.181818181818183,\n",
       " 18.181818181818183,\n",
       " 16.666666666666664,\n",
       " 18.181818181818183,\n",
       " 17.647058823529413,\n",
       " 16.666666666666664,\n",
       " 16.666666666666664,\n",
       " 18.181818181818183,\n",
       " 18.75,\n",
       " 20.0,\n",
       " 18.75,\n",
       " 20.0,\n",
       " 16.666666666666664,\n",
       " 16.666666666666664,\n",
       " 20.0,\n",
       " 20.0,\n",
       " 18.181818181818183,\n",
       " 18.181818181818183,\n",
       " 18.181818181818183,\n",
       " 16.666666666666664,\n",
       " 20.0,\n",
       " 20.0,\n",
       " 16.666666666666664,\n",
       " 16.666666666666664,\n",
       " 16.666666666666664,\n",
       " 20.0,\n",
       " 16.666666666666664,\n",
       " 20.0,\n",
       " 16.666666666666664,\n",
       " 18.181818181818183,\n",
       " 16.666666666666664,\n",
       " 18.181818181818183,\n",
       " 18.181818181818183,\n",
       " 20.0,\n",
       " 18.181818181818183,\n",
       " 18.181818181818183,\n",
       " 18.181818181818183,\n",
       " 16.666666666666664,\n",
       " 18.181818181818183,\n",
       " 18.181818181818183,\n",
       " 18.181818181818183,\n",
       " 20.0,\n",
       " 18.181818181818183,\n",
       " 18.181818181818183,\n",
       " 20.0,\n",
       " 20.0,\n",
       " 16.666666666666664,\n",
       " 16.666666666666664,\n",
       " 20.0,\n",
       " 18.181818181818183,\n",
       " 16.666666666666664,\n",
       " 18.75,\n",
       " 16.666666666666664,\n",
       " 20.0,\n",
       " 16.666666666666664,\n",
       " 18.181818181818183,\n",
       " 18.181818181818183,\n",
       " 18.181818181818183,\n",
       " 18.181818181818183,\n",
       " 20.0,\n",
       " 18.181818181818183,\n",
       " 18.181818181818183,\n",
       " 18.181818181818183,\n",
       " 16.666666666666664,\n",
       " 18.181818181818183,\n",
       " 16.666666666666664,\n",
       " 18.181818181818183,\n",
       " 18.181818181818183,\n",
       " 17.647058823529413,\n",
       " 18.75,\n",
       " 18.181818181818183,\n",
       " 18.181818181818183,\n",
       " 18.75,\n",
       " 18.181818181818183,\n",
       " 18.181818181818183,\n",
       " 16.666666666666664,\n",
       " 17.647058823529413,\n",
       " 16.666666666666664,\n",
       " 18.181818181818183,\n",
       " 18.181818181818183,\n",
       " 20.0,\n",
       " 18.181818181818183,\n",
       " 17.647058823529413,\n",
       " 20.0,\n",
       " 16.666666666666664,\n",
       " 16.666666666666664,\n",
       " 18.181818181818183,\n",
       " 18.181818181818183,\n",
       " 18.181818181818183,\n",
       " 18.181818181818183,\n",
       " 20.0,\n",
       " 18.181818181818183,\n",
       " 18.181818181818183,\n",
       " 17.647058823529413,\n",
       " 18.181818181818183,\n",
       " 18.181818181818183,\n",
       " 20.0,\n",
       " 18.181818181818183,\n",
       " 16.666666666666664,\n",
       " 18.181818181818183,\n",
       " 18.181818181818183,\n",
       " 20.0,\n",
       " 20.0,\n",
       " 18.181818181818183,\n",
       " 16.666666666666664,\n",
       " 16.666666666666664,\n",
       " 20.0,\n",
       " 18.181818181818183,\n",
       " 18.181818181818183,\n",
       " 18.181818181818183,\n",
       " 17.647058823529413,\n",
       " 20.0,\n",
       " 16.666666666666664,\n",
       " 18.75,\n",
       " 16.666666666666664,\n",
       " 18.75,\n",
       " 16.666666666666664,\n",
       " 20.0,\n",
       " 20.0,\n",
       " 20.0,\n",
       " 16.666666666666664,\n",
       " 18.181818181818183,\n",
       " 16.666666666666664,\n",
       " 18.181818181818183,\n",
       " 18.75,\n",
       " 17.647058823529413,\n",
       " 20.0,\n",
       " 18.181818181818183,\n",
       " 20.0,\n",
       " 18.181818181818183,\n",
       " 16.666666666666664,\n",
       " 20.0,\n",
       " 18.181818181818183,\n",
       " 18.181818181818183,\n",
       " 18.181818181818183,\n",
       " 16.666666666666664,\n",
       " 20.0,\n",
       " 16.666666666666664,\n",
       " 16.666666666666664,\n",
       " 18.181818181818183,\n",
       " 18.75,\n",
       " 16.666666666666664,\n",
       " 18.181818181818183,\n",
       " 18.181818181818183,\n",
       " 18.181818181818183,\n",
       " 18.181818181818183,\n",
       " 18.181818181818183,\n",
       " 20.0,\n",
       " 18.75,\n",
       " 20.0,\n",
       " 16.666666666666664,\n",
       " 20.0,\n",
       " 18.181818181818183,\n",
       " 16.666666666666664,\n",
       " 16.666666666666664,\n",
       " 18.181818181818183,\n",
       " 18.181818181818183,\n",
       " 18.181818181818183,\n",
       " 20.0,\n",
       " 20.0,\n",
       " 18.181818181818183,\n",
       " 17.647058823529413,\n",
       " 20.0,\n",
       " 18.181818181818183,\n",
       " 16.666666666666664,\n",
       " 18.181818181818183,\n",
       " 18.181818181818183,\n",
       " 18.181818181818183,\n",
       " 20.0,\n",
       " 16.666666666666664,\n",
       " 20.0,\n",
       " 18.181818181818183,\n",
       " 18.181818181818183,\n",
       " 17.647058823529413,\n",
       " 17.647058823529413,\n",
       " 20.0,\n",
       " 16.666666666666664,\n",
       " 16.666666666666664,\n",
       " 16.666666666666664,\n",
       " 16.666666666666664,\n",
       " 20.0,\n",
       " 20.0,\n",
       " 17.647058823529413,\n",
       " 18.181818181818183,\n",
       " 20.0,\n",
       " 18.75,\n",
       " 17.647058823529413,\n",
       " 18.181818181818183,\n",
       " 18.181818181818183,\n",
       " 18.181818181818183,\n",
       " 20.0,\n",
       " 16.666666666666664,\n",
       " 20.0,\n",
       " 18.181818181818183,\n",
       " 20.0,\n",
       " 20.0,\n",
       " 17.647058823529413,\n",
       " 18.181818181818183,\n",
       " 18.181818181818183,\n",
       " 18.75,\n",
       " 17.647058823529413,\n",
       " 20.0,\n",
       " 18.181818181818183,\n",
       " 16.666666666666664,\n",
       " 18.181818181818183,\n",
       " 18.181818181818183,\n",
       " 20.0,\n",
       " 16.666666666666664,\n",
       " 18.181818181818183,\n",
       " 18.181818181818183,\n",
       " 18.75,\n",
       " 18.181818181818183,\n",
       " 18.181818181818183,\n",
       " 16.666666666666664,\n",
       " 16.666666666666664,\n",
       " 18.181818181818183,\n",
       " 16.666666666666664,\n",
       " 16.666666666666664,\n",
       " 16.666666666666664,\n",
       " 18.75,\n",
       " 18.181818181818183,\n",
       " 18.75,\n",
       " 20.0,\n",
       " 18.181818181818183,\n",
       " 16.666666666666664,\n",
       " 18.181818181818183,\n",
       " 16.666666666666664,\n",
       " 16.666666666666664,\n",
       " 16.666666666666664,\n",
       " 18.181818181818183,\n",
       " 18.181818181818183,\n",
       " 18.181818181818183,\n",
       " 18.75,\n",
       " 18.181818181818183,\n",
       " 18.181818181818183,\n",
       " 18.181818181818183,\n",
       " 20.0,\n",
       " 20.0,\n",
       " 18.181818181818183,\n",
       " 18.181818181818183,\n",
       " 16.666666666666664,\n",
       " 18.181818181818183,\n",
       " 16.666666666666664,\n",
       " 18.75,\n",
       " 16.666666666666664,\n",
       " 20.0,\n",
       " 18.181818181818183,\n",
       " 20.0,\n",
       " 20.0,\n",
       " 18.181818181818183,\n",
       " 18.181818181818183,\n",
       " 18.181818181818183,\n",
       " 20.0,\n",
       " 18.181818181818183,\n",
       " 18.75,\n",
       " 16.666666666666664,\n",
       " 20.0,\n",
       " 18.181818181818183,\n",
       " 20.0,\n",
       " 16.666666666666664,\n",
       " 16.666666666666664,\n",
       " 18.75,\n",
       " 18.181818181818183,\n",
       " 18.75,\n",
       " 18.181818181818183,\n",
       " 18.181818181818183,\n",
       " 18.75,\n",
       " 20.0,\n",
       " 18.181818181818183,\n",
       " 18.181818181818183,\n",
       " 16.666666666666664,\n",
       " 18.181818181818183,\n",
       " 18.181818181818183,\n",
       " 20.0,\n",
       " 20.0,\n",
       " 18.75,\n",
       " 18.75,\n",
       " 17.647058823529413,\n",
       " 18.181818181818183,\n",
       " 16.666666666666664,\n",
       " 18.181818181818183,\n",
       " 18.75,\n",
       " 17.647058823529413,\n",
       " 18.181818181818183,\n",
       " 20.0,\n",
       " 16.666666666666664,\n",
       " 16.666666666666664,\n",
       " 16.666666666666664,\n",
       " 18.181818181818183,\n",
       " 16.666666666666664,\n",
       " 16.666666666666664,\n",
       " 18.75,\n",
       " 20.0,\n",
       " 20.0,\n",
       " 18.181818181818183,\n",
       " 18.181818181818183,\n",
       " 16.666666666666664,\n",
       " 18.75,\n",
       " 18.181818181818183,\n",
       " 16.666666666666664,\n",
       " 20.0,\n",
       " 18.75,\n",
       " 20.0,\n",
       " 18.181818181818183,\n",
       " 18.181818181818183,\n",
       " 20.0,\n",
       " 18.181818181818183,\n",
       " 18.181818181818183,\n",
       " 20.0,\n",
       " 18.181818181818183,\n",
       " 17.647058823529413,\n",
       " 18.75,\n",
       " 16.666666666666664,\n",
       " 18.181818181818183,\n",
       " 18.181818181818183,\n",
       " 18.181818181818183,\n",
       " 20.0,\n",
       " 16.666666666666664,\n",
       " 18.75,\n",
       " 18.181818181818183,\n",
       " 18.181818181818183,\n",
       " 18.181818181818183,\n",
       " 20.0,\n",
       " 16.666666666666664,\n",
       " 16.666666666666664,\n",
       " 18.181818181818183,\n",
       " 18.181818181818183,\n",
       " 18.181818181818183,\n",
       " 18.181818181818183,\n",
       " 18.181818181818183,\n",
       " 16.666666666666664,\n",
       " 18.181818181818183,\n",
       " 16.666666666666664,\n",
       " 20.0,\n",
       " 20.0,\n",
       " 18.181818181818183,\n",
       " 20.0,\n",
       " 17.647058823529413,\n",
       " 18.75,\n",
       " 20.0,\n",
       " 18.181818181818183,\n",
       " 16.666666666666664,\n",
       " 18.181818181818183,\n",
       " 18.75,\n",
       " 18.181818181818183,\n",
       " 16.666666666666664,\n",
       " 18.181818181818183,\n",
       " 18.181818181818183,\n",
       " 20.0,\n",
       " 16.666666666666664,\n",
       " 16.666666666666664,\n",
       " 18.181818181818183,\n",
       " 20.0,\n",
       " 20.0,\n",
       " 18.75,\n",
       " 17.647058823529413,\n",
       " 16.666666666666664,\n",
       " 18.181818181818183,\n",
       " 18.75,\n",
       " 18.75,\n",
       " 20.0,\n",
       " 18.181818181818183,\n",
       " 18.181818181818183,\n",
       " 16.666666666666664,\n",
       " 18.181818181818183,\n",
       " 16.666666666666664,\n",
       " 18.75,\n",
       " 18.181818181818183,\n",
       " 20.0,\n",
       " 18.181818181818183,\n",
       " 16.666666666666664,\n",
       " 18.181818181818183,\n",
       " 16.666666666666664,\n",
       " 18.181818181818183,\n",
       " 18.181818181818183,\n",
       " 16.666666666666664,\n",
       " 18.181818181818183,\n",
       " 17.647058823529413,\n",
       " 18.181818181818183,\n",
       " 16.666666666666664,\n",
       " 16.666666666666664,\n",
       " 18.181818181818183,\n",
       " 16.666666666666664,\n",
       " 18.181818181818183,\n",
       " 18.181818181818183,\n",
       " 20.0,\n",
       " 18.181818181818183,\n",
       " 18.181818181818183,\n",
       " 18.181818181818183,\n",
       " 18.181818181818183,\n",
       " 18.181818181818183,\n",
       " 18.181818181818183,\n",
       " 18.181818181818183,\n",
       " 18.75,\n",
       " 18.181818181818183,\n",
       " 18.181818181818183,\n",
       " 20.0,\n",
       " 20.0,\n",
       " 18.181818181818183,\n",
       " 18.181818181818183,\n",
       " 16.666666666666664,\n",
       " 18.181818181818183,\n",
       " 18.181818181818183,\n",
       " 16.666666666666664,\n",
       " 18.75,\n",
       " 18.75,\n",
       " 18.181818181818183,\n",
       " 20.0,\n",
       " 18.181818181818183,\n",
       " 16.666666666666664,\n",
       " 20.0,\n",
       " 20.0,\n",
       " 18.181818181818183,\n",
       " 18.181818181818183,\n",
       " 18.181818181818183,\n",
       " 18.181818181818183,\n",
       " 18.181818181818183,\n",
       " 16.666666666666664,\n",
       " 16.666666666666664,\n",
       " 18.181818181818183,\n",
       " 16.666666666666664,\n",
       " 20.0,\n",
       " 17.647058823529413,\n",
       " 18.181818181818183,\n",
       " 20.0,\n",
       " 18.75,\n",
       " 18.181818181818183,\n",
       " 18.181818181818183,\n",
       " 18.181818181818183,\n",
       " 16.666666666666664,\n",
       " 20.0,\n",
       " 18.181818181818183,\n",
       " 16.666666666666664,\n",
       " 16.666666666666664,\n",
       " 16.666666666666664,\n",
       " 18.181818181818183,\n",
       " 18.181818181818183,\n",
       " 18.181818181818183,\n",
       " 18.181818181818183,\n",
       " 18.181818181818183,\n",
       " 18.75,\n",
       " 18.75,\n",
       " 18.181818181818183,\n",
       " 16.666666666666664,\n",
       " 20.0,\n",
       " 18.181818181818183,\n",
       " 18.181818181818183,\n",
       " 17.647058823529413,\n",
       " 16.666666666666664,\n",
       " 18.181818181818183,\n",
       " 20.0,\n",
       " 18.181818181818183,\n",
       " 16.666666666666664,\n",
       " 18.181818181818183,\n",
       " 18.181818181818183,\n",
       " 18.181818181818183,\n",
       " 16.666666666666664,\n",
       " 20.0,\n",
       " 18.181818181818183,\n",
       " 18.181818181818183,\n",
       " 20.0,\n",
       " 18.181818181818183,\n",
       " 16.666666666666664,\n",
       " 18.75,\n",
       " 18.75,\n",
       " 18.181818181818183,\n",
       " 18.181818181818183,\n",
       " 16.666666666666664,\n",
       " 16.666666666666664,\n",
       " 18.181818181818183,\n",
       " 20.0,\n",
       " 16.666666666666664,\n",
       " 17.647058823529413,\n",
       " 17.647058823529413,\n",
       " 20.0,\n",
       " 18.181818181818183,\n",
       " 16.666666666666664,\n",
       " 18.181818181818183,\n",
       " 18.181818181818183,\n",
       " 20.0,\n",
       " 20.0,\n",
       " 18.181818181818183,\n",
       " 18.75,\n",
       " 18.181818181818183,\n",
       " 18.75,\n",
       " 18.181818181818183,\n",
       " 16.666666666666664,\n",
       " 17.647058823529413,\n",
       " 20.0,\n",
       " 18.181818181818183,\n",
       " 18.181818181818183,\n",
       " 16.666666666666664,\n",
       " 18.75,\n",
       " 20.0,\n",
       " 18.181818181818183,\n",
       " 16.666666666666664,\n",
       " 20.0,\n",
       " 18.181818181818183,\n",
       " 20.0,\n",
       " 18.75,\n",
       " 18.181818181818183,\n",
       " 18.181818181818183,\n",
       " 16.666666666666664,\n",
       " 18.181818181818183,\n",
       " 18.181818181818183,\n",
       " 18.181818181818183,\n",
       " 18.75,\n",
       " 18.181818181818183,\n",
       " 16.666666666666664,\n",
       " 18.181818181818183,\n",
       " 16.666666666666664,\n",
       " 20.0,\n",
       " 16.666666666666664,\n",
       " 18.181818181818183,\n",
       " 18.181818181818183,\n",
       " 18.181818181818183,\n",
       " 18.181818181818183,\n",
       " 16.666666666666664,\n",
       " 18.181818181818183,\n",
       " 18.181818181818183,\n",
       " 18.75,\n",
       " 20.0,\n",
       " 18.181818181818183,\n",
       " 18.75,\n",
       " 20.0,\n",
       " 16.666666666666664,\n",
       " 18.181818181818183,\n",
       " 18.181818181818183,\n",
       " 16.666666666666664,\n",
       " 16.666666666666664,\n",
       " 18.75,\n",
       " 20.0,\n",
       " 18.181818181818183,\n",
       " 16.666666666666664,\n",
       " 18.181818181818183,\n",
       " 18.181818181818183,\n",
       " 20.0,\n",
       " 18.181818181818183,\n",
       " 20.0,\n",
       " 20.0,\n",
       " 17.647058823529413,\n",
       " 16.666666666666664,\n",
       " 20.0,\n",
       " 20.0,\n",
       " 16.666666666666664,\n",
       " 18.181818181818183,\n",
       " 18.75,\n",
       " 20.0,\n",
       " 18.181818181818183,\n",
       " 20.0,\n",
       " 20.0,\n",
       " 20.0,\n",
       " 18.181818181818183,\n",
       " 20.0,\n",
       " 17.647058823529413,\n",
       " 16.666666666666664,\n",
       " 18.75,\n",
       " 20.0,\n",
       " 16.666666666666664,\n",
       " 16.666666666666664,\n",
       " 18.181818181818183,\n",
       " 20.0,\n",
       " 18.181818181818183,\n",
       " 16.666666666666664,\n",
       " 18.181818181818183,\n",
       " 18.75,\n",
       " 18.181818181818183,\n",
       " 18.181818181818183,\n",
       " 18.181818181818183,\n",
       " 18.181818181818183,\n",
       " 18.75,\n",
       " 16.666666666666664,\n",
       " 18.75,\n",
       " 18.75,\n",
       " 18.181818181818183,\n",
       " 16.666666666666664,\n",
       " 20.0,\n",
       " 20.0,\n",
       " 20.0,\n",
       " 18.181818181818183,\n",
       " 18.181818181818183,\n",
       " 18.75,\n",
       " 18.181818181818183,\n",
       " 18.75,\n",
       " 18.181818181818183,\n",
       " 20.0,\n",
       " 18.181818181818183,\n",
       " 18.181818181818183,\n",
       " 20.0,\n",
       " 20.0,\n",
       " 18.181818181818183,\n",
       " 16.666666666666664,\n",
       " 20.0,\n",
       " 18.181818181818183,\n",
       " 17.647058823529413,\n",
       " 18.181818181818183,\n",
       " 16.666666666666664,\n",
       " 18.181818181818183,\n",
       " 18.181818181818183,\n",
       " 17.647058823529413,\n",
       " 20.0,\n",
       " 18.75,\n",
       " 18.181818181818183,\n",
       " 20.0,\n",
       " 16.666666666666664,\n",
       " 18.181818181818183,\n",
       " 16.666666666666664,\n",
       " 16.666666666666664,\n",
       " 18.181818181818183,\n",
       " 18.181818181818183,\n",
       " 18.75,\n",
       " 16.666666666666664,\n",
       " 20.0,\n",
       " 18.75,\n",
       " 20.0,\n",
       " 18.181818181818183,\n",
       " 18.181818181818183,\n",
       " 18.75,\n",
       " 18.181818181818183,\n",
       " 16.666666666666664,\n",
       " 16.666666666666664,\n",
       " 20.0,\n",
       " 16.666666666666664,\n",
       " 20.0,\n",
       " 16.666666666666664,\n",
       " 18.75,\n",
       " 18.181818181818183,\n",
       " 20.0,\n",
       " 16.666666666666664,\n",
       " 18.75,\n",
       " 16.666666666666664,\n",
       " 18.181818181818183,\n",
       " 16.666666666666664,\n",
       " 18.181818181818183,\n",
       " 20.0,\n",
       " 18.181818181818183,\n",
       " 18.181818181818183,\n",
       " 18.181818181818183,\n",
       " 18.181818181818183,\n",
       " 17.647058823529413,\n",
       " 18.181818181818183,\n",
       " 18.75,\n",
       " 18.181818181818183,\n",
       " 18.181818181818183,\n",
       " 18.181818181818183,\n",
       " 18.181818181818183,\n",
       " 20.0,\n",
       " 20.0,\n",
       " 17.647058823529413,\n",
       " 18.181818181818183,\n",
       " 20.0,\n",
       " 18.75,\n",
       " 17.647058823529413,\n",
       " 18.181818181818183,\n",
       " 20.0,\n",
       " 18.181818181818183,\n",
       " 18.181818181818183,\n",
       " 18.181818181818183,\n",
       " 18.181818181818183,\n",
       " 17.647058823529413,\n",
       " 16.666666666666664,\n",
       " 18.181818181818183,\n",
       " 18.75,\n",
       " 16.666666666666664,\n",
       " 18.181818181818183,\n",
       " 18.75,\n",
       " 18.181818181818183,\n",
       " 20.0,\n",
       " 18.181818181818183,\n",
       " 18.181818181818183,\n",
       " 18.181818181818183,\n",
       " 20.0,\n",
       " 18.181818181818183,\n",
       " 18.181818181818183,\n",
       " 16.666666666666664,\n",
       " 20.0,\n",
       " 20.0,\n",
       " 18.75,\n",
       " 16.666666666666664,\n",
       " 16.666666666666664,\n",
       " 18.181818181818183,\n",
       " 18.181818181818183,\n",
       " 17.647058823529413,\n",
       " 16.666666666666664,\n",
       " 18.181818181818183,\n",
       " 18.181818181818183,\n",
       " 18.181818181818183,\n",
       " 16.666666666666664,\n",
       " 18.181818181818183,\n",
       " 18.181818181818183,\n",
       " 18.181818181818183,\n",
       " 18.75,\n",
       " 18.75,\n",
       " 18.75,\n",
       " 18.181818181818183,\n",
       " 16.666666666666664,\n",
       " 18.181818181818183,\n",
       " 16.666666666666664,\n",
       " 16.666666666666664,\n",
       " 18.75,\n",
       " 18.181818181818183,\n",
       " 20.0,\n",
       " 18.181818181818183,\n",
       " 20.0,\n",
       " 18.181818181818183,\n",
       " 18.75,\n",
       " 20.0,\n",
       " 18.75,\n",
       " 16.666666666666664,\n",
       " 17.647058823529413,\n",
       " 18.75,\n",
       " 18.181818181818183,\n",
       " 18.75,\n",
       " 16.666666666666664,\n",
       " 18.181818181818183,\n",
       " 18.181818181818183,\n",
       " 18.181818181818183,\n",
       " 18.181818181818183,\n",
       " 16.666666666666664,\n",
       " 17.647058823529413,\n",
       " 18.75,\n",
       " 18.181818181818183,\n",
       " 18.75,\n",
       " 17.647058823529413,\n",
       " 20.0,\n",
       " 18.181818181818183,\n",
       " 16.666666666666664,\n",
       " 18.181818181818183,\n",
       " 16.666666666666664,\n",
       " 18.181818181818183,\n",
       " 18.75,\n",
       " 16.666666666666664,\n",
       " 18.181818181818183,\n",
       " 16.666666666666664,\n",
       " 18.181818181818183,\n",
       " 18.181818181818183,\n",
       " 16.666666666666664,\n",
       " 18.75,\n",
       " 18.181818181818183,\n",
       " 18.181818181818183,\n",
       " 17.647058823529413,\n",
       " 16.666666666666664,\n",
       " 18.181818181818183,\n",
       " 16.666666666666664,\n",
       " 16.666666666666664,\n",
       " 18.181818181818183,\n",
       " 17.647058823529413,\n",
       " 18.181818181818183,\n",
       " 18.75,\n",
       " 18.181818181818183,\n",
       " 20.0,\n",
       " 18.75,\n",
       " 18.75,\n",
       " 18.181818181818183,\n",
       " 17.647058823529413,\n",
       " 18.181818181818183,\n",
       " 20.0,\n",
       " 16.666666666666664,\n",
       " 18.181818181818183,\n",
       " 20.0,\n",
       " 16.666666666666664,\n",
       " 16.666666666666664,\n",
       " 20.0,\n",
       " 20.0,\n",
       " 16.666666666666664,\n",
       " 16.666666666666664,\n",
       " 20.0,\n",
       " 20.0,\n",
       " 18.181818181818183,\n",
       " 20.0,\n",
       " 16.666666666666664,\n",
       " 18.75,\n",
       " 18.181818181818183,\n",
       " 18.181818181818183,\n",
       " 16.666666666666664,\n",
       " 16.666666666666664,\n",
       " 20.0,\n",
       " 18.181818181818183,\n",
       " 18.181818181818183,\n",
       " 20.0,\n",
       " 18.181818181818183,\n",
       " 17.647058823529413,\n",
       " 18.181818181818183,\n",
       " 20.0,\n",
       " 18.181818181818183,\n",
       " 20.0,\n",
       " 16.666666666666664,\n",
       " 16.666666666666664,\n",
       " 16.666666666666664,\n",
       " 18.181818181818183,\n",
       " 16.666666666666664,\n",
       " 18.181818181818183,\n",
       " 18.75,\n",
       " 20.0,\n",
       " 16.666666666666664,\n",
       " 18.181818181818183,\n",
       " 16.666666666666664,\n",
       " 20.0,\n",
       " 20.0,\n",
       " 16.666666666666664,\n",
       " 18.181818181818183,\n",
       " 18.181818181818183,\n",
       " 17.647058823529413,\n",
       " 18.75,\n",
       " 16.666666666666664,\n",
       " 18.181818181818183,\n",
       " 20.0,\n",
       " 17.647058823529413,\n",
       " 20.0,\n",
       " 20.0,\n",
       " 16.666666666666664,\n",
       " 16.666666666666664,\n",
       " 18.181818181818183,\n",
       " 17.647058823529413,\n",
       " 18.181818181818183,\n",
       " 20.0,\n",
       " 18.75,\n",
       " 18.181818181818183,\n",
       " 20.0,\n",
       " 18.181818181818183,\n",
       " 16.666666666666664,\n",
       " 18.181818181818183,\n",
       " 18.181818181818183,\n",
       " 20.0,\n",
       " 20.0,\n",
       " 18.181818181818183,\n",
       " 16.666666666666664,\n",
       " 16.666666666666664,\n",
       " 20.0,\n",
       " 18.181818181818183,\n",
       " 16.666666666666664,\n",
       " 20.0,\n",
       " 18.181818181818183,\n",
       " 20.0,\n",
       " 16.666666666666664,\n",
       " 16.666666666666664,\n",
       " 16.666666666666664,\n",
       " 18.181818181818183,\n",
       " 16.666666666666664,\n",
       " 20.0,\n",
       " 18.181818181818183,\n",
       " 17.647058823529413,\n",
       " 16.666666666666664,\n",
       " 18.181818181818183,\n",
       " 18.181818181818183,\n",
       " 16.666666666666664,\n",
       " 18.181818181818183,\n",
       " 17.647058823529413,\n",
       " 18.181818181818183,\n",
       " 20.0,\n",
       " 18.181818181818183,\n",
       " 20.0,\n",
       " 18.181818181818183,\n",
       " 18.181818181818183,\n",
       " ...]"
      ]
     },
     "execution_count": 267,
     "metadata": {},
     "output_type": "execute_result"
    }
   ],
   "source": [
    "medians"
   ]
  },
  {
   "cell_type": "code",
   "execution_count": 268,
   "metadata": {},
   "outputs": [
    {
     "data": {
      "text/plain": [
       "16.666666666666664"
      ]
     },
     "execution_count": 268,
     "metadata": {},
     "output_type": "execute_result"
    }
   ],
   "source": [
    "pd.Series(medians).quantile(0.025)"
   ]
  },
  {
   "cell_type": "code",
   "execution_count": 269,
   "metadata": {},
   "outputs": [
    {
     "data": {
      "text/plain": [
       "20.0"
      ]
     },
     "execution_count": 269,
     "metadata": {},
     "output_type": "execute_result"
    }
   ],
   "source": [
    "pd.Series(medians).quantile(0.975)"
   ]
  },
  {
   "cell_type": "code",
   "execution_count": null,
   "metadata": {},
   "outputs": [],
   "source": [
    "#Общий код для двух групп"
   ]
  },
  {
   "cell_type": "code",
   "execution_count": 292,
   "metadata": {},
   "outputs": [],
   "source": [
    "median_diff = []\n",
    "\n",
    "for i in range(10000):\n",
    "    sample_data_control = control_df.sample(frac=1, replace=True)\n",
    "    sample_median_control = sample_data_control.match_rate_perc.median()\n",
    "    \n",
    "    sample_data_test = test_df.sample(frac=1, replace=True)\n",
    "    sample_median_test = sample_data_test.match_rate_perc.median()\n",
    "    \n",
    "    sample_median_diff = sample_median_control - sample_median_test\n",
    "    median_diff.append(sample_median_diff)"
   ]
  },
  {
   "cell_type": "code",
   "execution_count": 293,
   "metadata": {},
   "outputs": [
    {
     "data": {
      "text/plain": [
       "-24.509803921568626"
      ]
     },
     "execution_count": 293,
     "metadata": {},
     "output_type": "execute_result"
    }
   ],
   "source": [
    "pd.Series(median_diff).quantile(0.025)"
   ]
  },
  {
   "cell_type": "code",
   "execution_count": 294,
   "metadata": {},
   "outputs": [
    {
     "data": {
      "text/plain": [
       "-20.0"
      ]
     },
     "execution_count": 294,
     "metadata": {},
     "output_type": "execute_result"
    }
   ],
   "source": [
    "pd.Series(median_diff).quantile(0.975)"
   ]
  },
  {
   "cell_type": "code",
   "execution_count": 287,
   "metadata": {},
   "outputs": [],
   "source": [
    "#Используем метод bootstrap из библиотеки SciPy"
   ]
  },
  {
   "cell_type": "code",
   "execution_count": 301,
   "metadata": {},
   "outputs": [
    {
     "data": {
      "text/plain": [
       "BootstrapResult(confidence_interval=ConfidenceInterval(low=39.130434782608695, high=41.17647058823529), standard_error=0.5629142359918955)"
      ]
     },
     "execution_count": 301,
     "metadata": {},
     "output_type": "execute_result"
    }
   ],
   "source": [
    "stats.bootstrap((test_df.match_rate_perc, ), np.median, method='percentile')"
   ]
  },
  {
   "cell_type": "code",
   "execution_count": 302,
   "metadata": {},
   "outputs": [
    {
     "data": {
      "text/plain": [
       "BootstrapResult(confidence_interval=ConfidenceInterval(low=16.666666666666664, high=20.0), standard_error=1.1062395140205477)"
      ]
     },
     "execution_count": 302,
     "metadata": {},
     "output_type": "execute_result"
    }
   ],
   "source": [
    "stats.bootstrap((control_df.match_rate_perc, ), np.median, method='percentile')"
   ]
  },
  {
   "cell_type": "markdown",
   "metadata": {},
   "source": [
    "## Вывод\n"
   ]
  },
  {
   "cell_type": "markdown",
   "metadata": {},
   "source": [
    "Доверительные интервалы не пересекаются, это значит, что с высокой степенью вероятности средние значения в генеральных совокупностях различны. В этом случае гипотеза о том, что эти средние одинаковы, отклоняется, а различие между выборочными средними считается статистически значимым (т.е. существенным)."
   ]
  },
  {
   "cell_type": "markdown",
   "metadata": {},
   "source": [
    "Можно сказать, что новый алгоритм сервиса значительно лидирует по показателю соотношения кол-ва мэтчей (1) у пользователя к общему кол-ву мэтчей (1 И 0) у пользователя, конверсия составила у тестовой группы `40,2%`, а у контрольной - `19,49%`. Доверительные интервалы для обеих оценок `(39,13-41,18)` и `(16,67-20,0)` соотвтественно у тестовой и контрольной группы. Таким образом, новый алгоритм положительно повлиял на подбор анкет для пользователь. "
   ]
  },
  {
   "cell_type": "code",
   "execution_count": null,
   "metadata": {},
   "outputs": [],
   "source": []
  }
 ],
 "metadata": {
  "kernelspec": {
   "display_name": "Python 3",
   "language": "python",
   "name": "python3"
  },
  "language_info": {
   "codemirror_mode": {
    "name": "ipython",
    "version": 3
   },
   "file_extension": ".py",
   "mimetype": "text/x-python",
   "name": "python",
   "nbconvert_exporter": "python",
   "pygments_lexer": "ipython3",
   "version": "3.7.3"
  }
 },
 "nbformat": 4,
 "nbformat_minor": 4
}
